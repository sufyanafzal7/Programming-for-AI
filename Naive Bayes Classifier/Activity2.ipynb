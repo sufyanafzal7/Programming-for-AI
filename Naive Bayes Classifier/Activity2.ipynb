{
 "cells": [
  {
   "cell_type": "markdown",
   "id": "0afb4c3d",
   "metadata": {},
   "source": [
    "Acivity 2"
   ]
  },
  {
   "cell_type": "code",
   "execution_count": null,
   "id": "555b8bf6",
   "metadata": {},
   "outputs": [],
   "source": [
    "from sklearn.datasets import fetch_20newsgroups\n",
    "import pandas as pd\n",
    "data = fetch_20newsgroups()\n",
    "df = pd.DataFrame({'text': data['data'], 'target': data['target']})\n",
    "print(df.head())"
   ]
  }
 ],
 "metadata": {
  "kernelspec": {
   "display_name": "Python 3",
   "language": "python",
   "name": "python3"
  },
  "language_info": {
   "codemirror_mode": {
    "name": "ipython",
    "version": 3
   },
   "file_extension": ".py",
   "mimetype": "text/x-python",
   "name": "python",
   "nbconvert_exporter": "python",
   "pygments_lexer": "ipython3",
   "version": "3.12.3"
  }
 },
 "nbformat": 4,
 "nbformat_minor": 5
}
