{
 "cells": [
  {
   "cell_type": "markdown",
   "metadata": {},
   "source": [
    "Name : \"Sufyan Afzal\" , Reg No : \"FA23-BAI-061\""
   ]
  },
  {
   "cell_type": "markdown",
   "metadata": {},
   "source": [
    "Question No : 1"
   ]
  },
  {
   "cell_type": "code",
   "execution_count": 11,
   "metadata": {},
   "outputs": [
    {
     "name": "stdout",
     "output_type": "stream",
     "text": [
      "Average price for smart phone :  55.7\n",
      "Average price for the Tablets :  50.7\n",
      "Median price for smart phone :  59.5\n",
      "Median price for the Tablets :  53.5\n",
      "Standard Deviation price for smart phone :  24.376423035384008\n",
      "Standard Deviation price for the Tablets :  28.439585088393958\n",
      "Max price for smart phone :  98\n",
      "Max price for the Tablet :  93\n",
      "Data Points for smart phone :  10\n",
      "Data Points for the Tablet :  10\n",
      "The difference between the Highest and Lowest prices for smart phone :  86\n",
      "The difference between the Highest and Lowest prices for smart phone :  83\n",
      "The common price range for smart phones :  55.7\n",
      "The common price range for the Tablets :  50.7\n"
     ]
    }
   ],
   "source": [
    "import numpy as np\n",
    "smartphonePrices = np.array([12,34,56,78,65,43,32,98,76,63])\n",
    "tabletPrices = np.array([13,24,36,68,93,84,71,69,39,10])\n",
    "print(\"Average price for smart phone : \",np.average(smartphonePrices))\n",
    "print(\"Average price for the Tablets : \", np.average(tabletPrices))\n",
    "print(\"Median price for smart phone : \",np.median(smartphonePrices))\n",
    "print(\"Median price for the Tablets : \", np.median(tabletPrices))\n",
    "print(\"Standard Deviation price for smart phone : \",np.std(smartphonePrices))\n",
    "print(\"Standard Deviation price for the Tablets : \", np.std(tabletPrices))\n",
    "print(\"Max price for smart phone : \",np.max(smartphonePrices))\n",
    "print(\"Max price for the Tablet : \",np.max(tabletPrices))\n",
    "print(\"Data Points for smart phone : \",np.size(smartphonePrices))\n",
    "print(\"Data Points for the Tablet : \",np.size(tabletPrices))\n",
    "spHv = np.max(smartphonePrices)\n",
    "spLv = np.min(smartphonePrices)\n",
    "print(\"The difference between the Highest and Lowest prices for smart phone : \", spHv-spLv)\n",
    "tHv = np.max(tabletPrices)\n",
    "tLv = np.min(tabletPrices)\n",
    "print(\"The difference between the Highest and Lowest prices for smart phone : \", tHv-tLv)\n",
    "print(\"The common price range for smart phones : \", np.mean(smartphonePrices))\n",
    "print(\"The common price range for the Tablets : \", np.mean(tabletPrices))"
   ]
  },
  {
   "cell_type": "markdown",
   "metadata": {},
   "source": [
    "Question No: 2"
   ]
  },
  {
   "cell_type": "code",
   "execution_count": 16,
   "metadata": {},
   "outputs": [
    {
     "name": "stdout",
     "output_type": "stream",
     "text": [
      "The people older than 30 :      Name  Age      City\n",
      "0   John   25  New York\n",
      "3  Linda   28   Houston\n",
      "The name of people older than average age : \n",
      " 0     John\n",
      "3    Linda\n",
      "Name: Name, dtype: object\n",
      "Person with the longest name: Micheal\n"
     ]
    }
   ],
   "source": [
    "import pandas as pd\n",
    "data = {\n",
    "    \"Name\" : [\"John\",\"Anna\",\"Peter\",\"Linda\",\"Micheal\"],\n",
    "    \"Age\" : [25,30,35,28,32],\n",
    "    \"City\" : [\"New York\", \"Los Angeles\", \"Chicago\", \"Houston\", \"Phoenix\"]\n",
    "}\n",
    "df = pd.DataFrame(data)\n",
    "older30 = df[df[\"Age\"] < 30]\n",
    "print(\"The people older than 30 : \", older30)\n",
    "avrageAge = df['Age'].mean()\n",
    "olderAverageAge = df[df[\"Age\"] < avrageAge][\"Name\"]\n",
    "print(\"The name of people older than average age : \\n\", olderAverageAge)\n",
    "longest_name = df.loc[df[\"Name\"].str.len().idxmax()]\n",
    "print(\"Person with the longest name:\", longest_name[\"Name\"])"
   ]
  }
 ],
 "metadata": {
  "kernelspec": {
   "display_name": "Python 3",
   "language": "python",
   "name": "python3"
  },
  "language_info": {
   "codemirror_mode": {
    "name": "ipython",
    "version": 3
   },
   "file_extension": ".py",
   "mimetype": "text/x-python",
   "name": "python",
   "nbconvert_exporter": "python",
   "pygments_lexer": "ipython3",
   "version": "3.12.3"
  }
 },
 "nbformat": 4,
 "nbformat_minor": 2
}
