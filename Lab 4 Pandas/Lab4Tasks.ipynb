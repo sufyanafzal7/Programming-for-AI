{
 "cells": [
  {
   "cell_type": "markdown",
   "metadata": {},
   "source": [
    "Name : \"Sufyan Afzal\" , Reg No : \"FA23-ABI-061\" "
   ]
  },
  {
   "cell_type": "markdown",
   "metadata": {},
   "source": [
    "Import the necessary libraries"
   ]
  },
  {
   "cell_type": "code",
   "execution_count": 2,
   "metadata": {},
   "outputs": [],
   "source": [
    "import numpy as np\n",
    "import pandas as pd"
   ]
  },
  {
   "cell_type": "markdown",
   "metadata": {},
   "source": [
    "---------------------------------------------------------------------"
   ]
  },
  {
   "cell_type": "markdown",
   "metadata": {},
   "source": [
    "Lab Tasks 1 "
   ]
  },
  {
   "cell_type": "markdown",
   "metadata": {},
   "source": [
    "---------------------------------------------------------------------"
   ]
  },
  {
   "cell_type": "markdown",
   "metadata": {},
   "source": [
    "Q.1 : Download the movie dataset from this website (Download it manually) https://www.kaggle.com/datasets/iamsouravbanerjee/house-rent-prediction-dataset?select=House_Rent_Dataset.csv to your computer and upload it. Use that file and assign it to a dataframe called house_details"
   ]
  },
  {
   "cell_type": "code",
   "execution_count": 9,
   "metadata": {},
   "outputs": [
    {
     "name": "stdout",
     "output_type": "stream",
     "text": [
      "       Posted On  BHK   Rent  Size            Floor    Area Type  \\\n",
      "0     2022-05-18    2  10000  1100  Ground out of 2   Super Area   \n",
      "1     2022-05-13    2  20000   800       1 out of 3   Super Area   \n",
      "2     2022-05-16    2  17000  1000       1 out of 3   Super Area   \n",
      "3     2022-07-04    2  10000   800       1 out of 2   Super Area   \n",
      "4     2022-05-09    2   7500   850       1 out of 2  Carpet Area   \n",
      "...          ...  ...    ...   ...              ...          ...   \n",
      "4741  2022-05-18    2  15000  1000       3 out of 5  Carpet Area   \n",
      "4742  2022-05-15    3  29000  2000       1 out of 4   Super Area   \n",
      "4743  2022-07-10    3  35000  1750       3 out of 5  Carpet Area   \n",
      "4744  2022-07-06    3  45000  1500     23 out of 34  Carpet Area   \n",
      "4745  2022-05-04    2  15000  1000       4 out of 5  Carpet Area   \n",
      "\n",
      "                 Area Locality       City Furnishing Status  Tenant Preferred  \\\n",
      "0                       Bandel    Kolkata       Unfurnished  Bachelors/Family   \n",
      "1     Phool Bagan, Kankurgachi    Kolkata    Semi-Furnished  Bachelors/Family   \n",
      "2      Salt Lake City Sector 2    Kolkata    Semi-Furnished  Bachelors/Family   \n",
      "3                  Dumdum Park    Kolkata       Unfurnished  Bachelors/Family   \n",
      "4                South Dum Dum    Kolkata       Unfurnished         Bachelors   \n",
      "...                        ...        ...               ...               ...   \n",
      "4741              Bandam Kommu  Hyderabad    Semi-Furnished  Bachelors/Family   \n",
      "4742      Manikonda, Hyderabad  Hyderabad    Semi-Furnished  Bachelors/Family   \n",
      "4743      Himayath Nagar, NH 7  Hyderabad    Semi-Furnished  Bachelors/Family   \n",
      "4744                Gachibowli  Hyderabad    Semi-Furnished            Family   \n",
      "4745           Suchitra Circle  Hyderabad       Unfurnished         Bachelors   \n",
      "\n",
      "      Bathroom Point of Contact  \n",
      "0            2    Contact Owner  \n",
      "1            1    Contact Owner  \n",
      "2            1    Contact Owner  \n",
      "3            1    Contact Owner  \n",
      "4            1    Contact Owner  \n",
      "...        ...              ...  \n",
      "4741         2    Contact Owner  \n",
      "4742         3    Contact Owner  \n",
      "4743         3    Contact Agent  \n",
      "4744         2    Contact Agent  \n",
      "4745         2    Contact Owner  \n",
      "\n",
      "[4746 rows x 12 columns]\n"
     ]
    }
   ],
   "source": [
    "import pandas as pd\n",
    "house_details = pd.read_csv(\"House_Rent_Dataset.csv\", sep=',')\n",
    "print(house_details)"
   ]
  },
  {
   "cell_type": "markdown",
   "metadata": {},
   "source": [
    "Q.2 : Display the first 15 rows"
   ]
  },
  {
   "cell_type": "code",
   "execution_count": 10,
   "metadata": {},
   "outputs": [
    {
     "name": "stdout",
     "output_type": "stream",
     "text": [
      "     Posted On  BHK   Rent  Size            Floor    Area Type  \\\n",
      "0   2022-05-18    2  10000  1100  Ground out of 2   Super Area   \n",
      "1   2022-05-13    2  20000   800       1 out of 3   Super Area   \n",
      "2   2022-05-16    2  17000  1000       1 out of 3   Super Area   \n",
      "3   2022-07-04    2  10000   800       1 out of 2   Super Area   \n",
      "4   2022-05-09    2   7500   850       1 out of 2  Carpet Area   \n",
      "5   2022-04-29    2   7000   600  Ground out of 1   Super Area   \n",
      "6   2022-06-21    2  10000   700  Ground out of 4   Super Area   \n",
      "7   2022-06-21    1   5000   250       1 out of 2   Super Area   \n",
      "8   2022-06-07    2  26000   800       1 out of 2  Carpet Area   \n",
      "9   2022-06-20    2  10000  1000       1 out of 3  Carpet Area   \n",
      "10  2022-05-23    3  25000  1200       1 out of 4  Carpet Area   \n",
      "11  2022-06-07    1   5000   400       1 out of 1  Carpet Area   \n",
      "12  2022-05-14    1   6500   250       1 out of 4  Carpet Area   \n",
      "13  2022-05-09    1   5500   375       1 out of 2  Carpet Area   \n",
      "14  2022-05-05    3   8500   900  Ground out of 2  Carpet Area   \n",
      "\n",
      "                      Area Locality     City Furnishing Status  \\\n",
      "0                            Bandel  Kolkata       Unfurnished   \n",
      "1          Phool Bagan, Kankurgachi  Kolkata    Semi-Furnished   \n",
      "2           Salt Lake City Sector 2  Kolkata    Semi-Furnished   \n",
      "3                       Dumdum Park  Kolkata       Unfurnished   \n",
      "4                     South Dum Dum  Kolkata       Unfurnished   \n",
      "5                       Thakurpukur  Kolkata       Unfurnished   \n",
      "6                          Malancha  Kolkata       Unfurnished   \n",
      "7                          Malancha  Kolkata       Unfurnished   \n",
      "8   Palm Avenue Kolkata, Ballygunge  Kolkata       Unfurnished   \n",
      "9                          Natunhat  Kolkata    Semi-Furnished   \n",
      "10  Action Area 1, Rajarhat Newtown  Kolkata    Semi-Furnished   \n",
      "11                        Keshtopur  Kolkata       Unfurnished   \n",
      "12               Tarulia, Keshtopur  Kolkata         Furnished   \n",
      "13                    Dum Dum Metro  Kolkata       Unfurnished   \n",
      "14                  Paschim Barisha  Kolkata       Unfurnished   \n",
      "\n",
      "    Tenant Preferred  Bathroom Point of Contact  \n",
      "0   Bachelors/Family         2    Contact Owner  \n",
      "1   Bachelors/Family         1    Contact Owner  \n",
      "2   Bachelors/Family         1    Contact Owner  \n",
      "3   Bachelors/Family         1    Contact Owner  \n",
      "4          Bachelors         1    Contact Owner  \n",
      "5   Bachelors/Family         2    Contact Owner  \n",
      "6          Bachelors         2    Contact Agent  \n",
      "7          Bachelors         1    Contact Agent  \n",
      "8          Bachelors         2    Contact Agent  \n",
      "9   Bachelors/Family         2    Contact Owner  \n",
      "10  Bachelors/Family         2    Contact Agent  \n",
      "11  Bachelors/Family         1    Contact Agent  \n",
      "12         Bachelors         1    Contact Owner  \n",
      "13  Bachelors/Family         1    Contact Agent  \n",
      "14         Bachelors         2    Contact Owner  \n"
     ]
    }
   ],
   "source": [
    "import pandas as pd\n",
    "house_details = pd.read_csv(\"House_Rent_Dataset.csv\", sep=',')\n",
    "print(house_details.head(15))"
   ]
  },
  {
   "cell_type": "markdown",
   "metadata": {},
   "source": [
    "Q.3 : Display the following columns with all rows"
   ]
  },
  {
   "cell_type": "markdown",
   "metadata": {},
   "source": [
    "Posted On, Rent, city and Furnishing Status"
   ]
  },
  {
   "cell_type": "code",
   "execution_count": 13,
   "metadata": {},
   "outputs": [
    {
     "name": "stdout",
     "output_type": "stream",
     "text": [
      "       Posted On   Rent       City Furnishing Status\n",
      "0     2022-05-18  10000    Kolkata       Unfurnished\n",
      "1     2022-05-13  20000    Kolkata    Semi-Furnished\n",
      "2     2022-05-16  17000    Kolkata    Semi-Furnished\n",
      "3     2022-07-04  10000    Kolkata       Unfurnished\n",
      "4     2022-05-09   7500    Kolkata       Unfurnished\n",
      "...          ...    ...        ...               ...\n",
      "4741  2022-05-18  15000  Hyderabad    Semi-Furnished\n",
      "4742  2022-05-15  29000  Hyderabad    Semi-Furnished\n",
      "4743  2022-07-10  35000  Hyderabad    Semi-Furnished\n",
      "4744  2022-07-06  45000  Hyderabad    Semi-Furnished\n",
      "4745  2022-05-04  15000  Hyderabad       Unfurnished\n",
      "\n",
      "[4746 rows x 4 columns]\n"
     ]
    }
   ],
   "source": [
    "import pandas as pd\n",
    "house_details = pd.read_csv(\"House_Rent_Dataset.csv\",sep=',')\n",
    "print(house_details[['Posted On','Rent','City','Furnishing Status']])"
   ]
  },
  {
   "cell_type": "markdown",
   "metadata": {},
   "source": [
    "Q.4 : Find the total number of rows in your dataset?"
   ]
  },
  {
   "cell_type": "code",
   "execution_count": 19,
   "metadata": {},
   "outputs": [
    {
     "name": "stdout",
     "output_type": "stream",
     "text": [
      "Total number of rows : 4746\n"
     ]
    }
   ],
   "source": [
    "import pandas as pd\n",
    "house_details = pd.read_csv(\"House_Rent_Dataset.csv\",sep=',')\n",
    "totalRows = house_details.shape[0]\n",
    "print(f\"Total number of rows : {totalRows}\")"
   ]
  },
  {
   "cell_type": "markdown",
   "metadata": {},
   "source": [
    "Q.5 : Find the total number of columns in your dataset?"
   ]
  },
  {
   "cell_type": "code",
   "execution_count": 22,
   "metadata": {},
   "outputs": [
    {
     "name": "stdout",
     "output_type": "stream",
     "text": [
      "Total number of coloumns : 12\n"
     ]
    }
   ],
   "source": [
    "import pandas as pd\n",
    "house_details = pd.read_csv(\"House_Rent_Dataset.csv\",sep=',')\n",
    "totalColumns = house_details.shape[1]\n",
    "print(f\"Total number of coloumns : {totalColumns}\")"
   ]
  },
  {
   "cell_type": "markdown",
   "metadata": {},
   "source": [
    "Q.6 : Print the name of all the columns present in your dataset"
   ]
  },
  {
   "cell_type": "code",
   "execution_count": 25,
   "metadata": {},
   "outputs": [
    {
     "name": "stdout",
     "output_type": "stream",
     "text": [
      "Index(['Posted On', 'BHK', 'Rent', 'Size', 'Floor', 'Area Type',\n",
      "       'Area Locality', 'City', 'Furnishing Status', 'Tenant Preferred',\n",
      "       'Bathroom', 'Point of Contact'],\n",
      "      dtype='object')\n"
     ]
    }
   ],
   "source": [
    "import pandas as pd\n",
    "house_details = pd.read_csv(\"House_Rent_Dataset.csv\",sep=',') \n",
    "print(house_details.columns)"
   ]
  },
  {
   "cell_type": "markdown",
   "metadata": {},
   "source": [
    "Q.7 : Display the detail of houses that are Furnished"
   ]
  },
  {
   "cell_type": "code",
   "execution_count": 33,
   "metadata": {},
   "outputs": [
    {
     "name": "stdout",
     "output_type": "stream",
     "text": [
      "------------------------------------------------------------\n",
      "Furnished Houses (First 5 rows):\n",
      "     Posted On  BHK   Rent  Size            Floor    Area Type  \\\n",
      "12  2022-05-14    1   6500   250       1 out of 4  Carpet Area   \n",
      "15  2022-06-01    3  40000  1286       1 out of 1  Carpet Area   \n",
      "41  2022-05-12    3  12000  1500  Ground out of 2  Carpet Area   \n",
      "50  2022-06-22    1   7500   150       1 out of 1   Super Area   \n",
      "82  2022-05-23    2  15000   480  Ground out of 3  Carpet Area   \n",
      "\n",
      "             Area Locality     City Furnishing Status  Tenant Preferred  \\\n",
      "12      Tarulia, Keshtopur  Kolkata         Furnished         Bachelors   \n",
      "15  New Town Action Area 1  Kolkata         Furnished  Bachelors/Family   \n",
      "41              Bhadrakali  Kolkata         Furnished         Bachelors   \n",
      "50          Salt Lake City  Kolkata         Furnished  Bachelors/Family   \n",
      "82           shukhobrishti  Kolkata         Furnished  Bachelors/Family   \n",
      "\n",
      "    Bathroom Point of Contact  \n",
      "12         1    Contact Owner  \n",
      "15         2    Contact Owner  \n",
      "41         2    Contact Owner  \n",
      "50         1    Contact Owner  \n",
      "82         2    Contact Owner  \n",
      "------------------------------------------------------------\n",
      "Semi-Furnished Houses (First 5 rows):\n",
      "     Posted On  BHK   Rent  Size       Floor    Area Type  \\\n",
      "1   2022-05-13    2  20000   800  1 out of 3   Super Area   \n",
      "2   2022-05-16    2  17000  1000  1 out of 3   Super Area   \n",
      "9   2022-06-20    2  10000  1000  1 out of 3  Carpet Area   \n",
      "10  2022-05-23    3  25000  1200  1 out of 4  Carpet Area   \n",
      "16  2022-05-17    2   6000   600  1 out of 2   Super Area   \n",
      "\n",
      "                      Area Locality     City Furnishing Status  \\\n",
      "1          Phool Bagan, Kankurgachi  Kolkata    Semi-Furnished   \n",
      "2           Salt Lake City Sector 2  Kolkata    Semi-Furnished   \n",
      "9                          Natunhat  Kolkata    Semi-Furnished   \n",
      "10  Action Area 1, Rajarhat Newtown  Kolkata    Semi-Furnished   \n",
      "16                          Barasat  Kolkata    Semi-Furnished   \n",
      "\n",
      "    Tenant Preferred  Bathroom Point of Contact  \n",
      "1   Bachelors/Family         1    Contact Owner  \n",
      "2   Bachelors/Family         1    Contact Owner  \n",
      "9   Bachelors/Family         2    Contact Owner  \n",
      "10  Bachelors/Family         2    Contact Agent  \n",
      "16  Bachelors/Family         1    Contact Owner  \n",
      "------------------------------------------------------------\n",
      "Unfurnished Houses (First 5 rows):\n",
      "    Posted On  BHK   Rent  Size            Floor    Area Type  Area Locality  \\\n",
      "0  2022-05-18    2  10000  1100  Ground out of 2   Super Area         Bandel   \n",
      "3  2022-07-04    2  10000   800       1 out of 2   Super Area    Dumdum Park   \n",
      "4  2022-05-09    2   7500   850       1 out of 2  Carpet Area  South Dum Dum   \n",
      "5  2022-04-29    2   7000   600  Ground out of 1   Super Area    Thakurpukur   \n",
      "6  2022-06-21    2  10000   700  Ground out of 4   Super Area       Malancha   \n",
      "\n",
      "      City Furnishing Status  Tenant Preferred  Bathroom Point of Contact  \n",
      "0  Kolkata       Unfurnished  Bachelors/Family         2    Contact Owner  \n",
      "3  Kolkata       Unfurnished  Bachelors/Family         1    Contact Owner  \n",
      "4  Kolkata       Unfurnished         Bachelors         1    Contact Owner  \n",
      "5  Kolkata       Unfurnished  Bachelors/Family         2    Contact Owner  \n",
      "6  Kolkata       Unfurnished         Bachelors         2    Contact Agent  \n",
      "------------------------------------------------------------\n"
     ]
    }
   ],
   "source": [
    "import pandas as pd\n",
    "house_details = pd.read_csv(\"House_Rent_Dataset.csv\", sep=',') \n",
    "furnishedHouse = house_details[house_details[\"Furnishing Status\"] == \"Furnished\"]\n",
    "semiFurnishedHouse = house_details[house_details[\"Furnishing Status\"] == \"Semi-Furnished\"]\n",
    "unFurnishedHouse = house_details[house_details[\"Furnishing Status\"] == \"Unfurnished\"]\n",
    "print(\"-\" * 60)\n",
    "print(\"Furnished Houses (First 5 rows):\")\n",
    "print(furnishedHouse.head()) \n",
    "print(\"-\" * 60)\n",
    "\n",
    "print(\"Semi-Furnished Houses (First 5 rows):\")\n",
    "print(semiFurnishedHouse.head())  \n",
    "print(\"-\" * 60)\n",
    "\n",
    "print(\"Unfurnished Houses (First 5 rows):\")\n",
    "print(unFurnishedHouse.head())\n",
    "print(\"-\" * 60)\n"
   ]
  },
  {
   "cell_type": "markdown",
   "metadata": {},
   "source": [
    "Q.8 : Now, display those houses that are furnished and have rent < 15K"
   ]
  },
  {
   "cell_type": "code",
   "execution_count": 36,
   "metadata": {},
   "outputs": [
    {
     "name": "stdout",
     "output_type": "stream",
     "text": [
      "------------------------------------------------------------\n",
      "Furnished Houses :\n",
      "       Posted On  BHK   Rent  Size            Floor    Area Type  \\\n",
      "12    2022-05-14    1   6500   250       1 out of 4  Carpet Area   \n",
      "41    2022-05-12    3  12000  1500  Ground out of 2  Carpet Area   \n",
      "50    2022-06-22    1   7500   150       1 out of 1   Super Area   \n",
      "84    2022-06-22    2   6700   800       1 out of 2   Super Area   \n",
      "92    2022-05-15    1   9000   600       2 out of 4   Super Area   \n",
      "...          ...  ...    ...   ...              ...          ...   \n",
      "4668  2022-04-30    2  12500  1100       2 out of 5   Super Area   \n",
      "4673  2022-07-02    2   8000   800       1 out of 6   Super Area   \n",
      "4703  2022-07-06    2  12000   950       4 out of 4   Super Area   \n",
      "4725  2022-05-14    1   9000   650       1 out of 3   Super Area   \n",
      "4733  2022-06-28    1   5000   500  Ground out of 1  Carpet Area   \n",
      "\n",
      "                                          Area Locality       City  \\\n",
      "12                                   Tarulia, Keshtopur    Kolkata   \n",
      "41                                           Bhadrakali    Kolkata   \n",
      "50                                       Salt Lake City    Kolkata   \n",
      "84    Baishnavghata patuli , house number s-300 Kolk...    Kolkata   \n",
      "92                                               Behala    Kolkata   \n",
      "...                                                 ...        ...   \n",
      "4668                              Vanasthalipuram, NH 9  Hyderabad   \n",
      "4673              Modi Paradise, Hayathnagar, Hyderabad  Hyderabad   \n",
      "4703            Anandbagh, Secunderabad, Moula Ali Road  Hyderabad   \n",
      "4725                                 Basheer Bagh, NH 7  Hyderabad   \n",
      "4733                                     BN Reddy Nagar  Hyderabad   \n",
      "\n",
      "     Furnishing Status  Tenant Preferred  Bathroom Point of Contact  \n",
      "12           Furnished         Bachelors         1    Contact Owner  \n",
      "41           Furnished         Bachelors         2    Contact Owner  \n",
      "50           Furnished  Bachelors/Family         1    Contact Owner  \n",
      "84           Furnished  Bachelors/Family         1    Contact Owner  \n",
      "92           Furnished  Bachelors/Family         1    Contact Owner  \n",
      "...                ...               ...       ...              ...  \n",
      "4668         Furnished  Bachelors/Family         2    Contact Owner  \n",
      "4673         Furnished  Bachelors/Family         2    Contact Owner  \n",
      "4703         Furnished  Bachelors/Family         2    Contact Owner  \n",
      "4725         Furnished  Bachelors/Family         1    Contact Agent  \n",
      "4733         Furnished  Bachelors/Family         1    Contact Owner  \n",
      "\n",
      "[163 rows x 12 columns]\n",
      "------------------------------------------------------------\n"
     ]
    }
   ],
   "source": [
    "import pandas as pd\n",
    "house_details = pd.read_csv(\"House_Rent_Dataset.csv\", sep=',') \n",
    "furnishedHouse = house_details[(house_details[\"Furnishing Status\"] == \"Furnished\") & (house_details[\"Rent\"] < 15000)]\n",
    "print(\"-\" * 60)\n",
    "print(\"Furnished Houses :\")\n",
    "print(furnishedHouse) \n",
    "print(\"-\" * 60)"
   ]
  },
  {
   "cell_type": "markdown",
   "metadata": {},
   "source": [
    "---------------------------------------------------------------------"
   ]
  },
  {
   "cell_type": "markdown",
   "metadata": {},
   "source": [
    "Lab Tasks 2"
   ]
  },
  {
   "cell_type": "markdown",
   "metadata": {},
   "source": [
    "---------------------------------------------------------------------"
   ]
  },
  {
   "cell_type": "markdown",
   "metadata": {},
   "source": [
    "Q.1 : Import the dataset from this address https://raw.githubusercontent.com/justmarkham/DAT8/master/data/u.user without downloading it manually"
   ]
  },
  {
   "cell_type": "code",
   "execution_count": 37,
   "metadata": {},
   "outputs": [
    {
     "name": "stdout",
     "output_type": "stream",
     "text": [
      "    user_id|age|gender|occupation|zip_code\n",
      "0                  1|24|M|technician|85711\n",
      "1                       2|53|F|other|94043\n",
      "2                      3|23|M|writer|32067\n",
      "3                  4|24|M|technician|43537\n",
      "4                       5|33|F|other|15213\n",
      "..                                     ...\n",
      "938                 939|26|F|student|33319\n",
      "939           940|32|M|administrator|02215\n",
      "940                 941|20|M|student|97229\n",
      "941               942|48|F|librarian|78209\n",
      "942                 943|22|M|student|77841\n",
      "\n",
      "[943 rows x 1 columns]\n"
     ]
    }
   ],
   "source": [
    "import pandas as pd\n",
    "url = \"https://raw.githubusercontent.com/justmarkham/DAT8/master/data/u.user\"\n",
    "dataSet = pd.read_csv(url)\n",
    "print(dataSet)"
   ]
  },
  {
   "cell_type": "markdown",
   "metadata": {},
   "source": [
    "Q.2 : Assign it to a variable called users and use the 'user_id' as index. choose the seperater/delimiter carefully."
   ]
  },
  {
   "cell_type": "code",
   "execution_count": 39,
   "metadata": {},
   "outputs": [
    {
     "name": "stdout",
     "output_type": "stream",
     "text": [
      "         age gender     occupation zip_code\n",
      "user_id                                    \n",
      "1         24      M     technician    85711\n",
      "2         53      F          other    94043\n",
      "3         23      M         writer    32067\n",
      "4         24      M     technician    43537\n",
      "5         33      F          other    15213\n",
      "...      ...    ...            ...      ...\n",
      "939       26      F        student    33319\n",
      "940       32      M  administrator    02215\n",
      "941       20      M        student    97229\n",
      "942       48      F      librarian    78209\n",
      "943       22      M        student    77841\n",
      "\n",
      "[943 rows x 4 columns]\n"
     ]
    }
   ],
   "source": [
    "import pandas as pd\n",
    "users = \"https://raw.githubusercontent.com/justmarkham/DAT8/master/data/u.user\"\n",
    "dataSet = pd.read_csv(users,sep='|',index_col=\"user_id\")\n",
    "print(dataSet)"
   ]
  },
  {
   "cell_type": "markdown",
   "metadata": {},
   "source": [
    "Q.3 : Display 1/3rd rows"
   ]
  },
  {
   "cell_type": "code",
   "execution_count": 42,
   "metadata": {},
   "outputs": [
    {
     "name": "stdout",
     "output_type": "stream",
     "text": [
      "         age gender  occupation zip_code\n",
      "user_id                                 \n",
      "1         24      M  technician    85711\n",
      "2         53      F       other    94043\n",
      "3         23      M      writer    32067\n",
      "4         24      M  technician    43537\n",
      "5         33      F       other    15213\n",
      "...      ...    ...         ...      ...\n",
      "310       37      M    educator    91711\n",
      "311       32      M  technician    73071\n",
      "312       48      M       other    02110\n",
      "313       41      M   marketing    60035\n",
      "314       20      F     student    08043\n",
      "\n",
      "[314 rows x 4 columns]\n"
     ]
    }
   ],
   "source": [
    "import pandas as pd\n",
    "users = \"https://raw.githubusercontent.com/justmarkham/DAT8/master/data/u.user\"\n",
    "dataSet = pd.read_csv(users,sep='|',index_col=\"user_id\")\n",
    "one3rd = dataSet.shape[0]//3\n",
    "print(dataSet.head(one3rd))"
   ]
  },
  {
   "cell_type": "markdown",
   "metadata": {},
   "source": [
    "Q.4 : Display the entire occupation column"
   ]
  },
  {
   "cell_type": "code",
   "execution_count": 48,
   "metadata": {},
   "outputs": [
    {
     "name": "stdout",
     "output_type": "stream",
     "text": [
      "user_id\n",
      "1         technician\n",
      "2              other\n",
      "3             writer\n",
      "4         technician\n",
      "5              other\n",
      "           ...      \n",
      "939          student\n",
      "940    administrator\n",
      "941          student\n",
      "942        librarian\n",
      "943          student\n",
      "Name: occupation, Length: 943, dtype: object\n"
     ]
    }
   ],
   "source": [
    "import pandas as pd\n",
    "users = \"https://raw.githubusercontent.com/justmarkham/DAT8/master/data/u.user\"\n",
    "dataSet = pd.read_csv(users,sep='|',index_col=\"user_id\")\n",
    "print(dataSet['occupation'])"
   ]
  },
  {
   "cell_type": "markdown",
   "metadata": {},
   "source": [
    "Q.5 : How many different occupations are in this dataset?"
   ]
  },
  {
   "cell_type": "code",
   "execution_count": 51,
   "metadata": {},
   "outputs": [
    {
     "name": "stdout",
     "output_type": "stream",
     "text": [
      "Different Occupations : \n",
      " ['technician' 'other' 'writer' 'executive' 'administrator' 'student'\n",
      " 'lawyer' 'educator' 'scientist' 'entertainment' 'programmer' 'librarian'\n",
      " 'homemaker' 'artist' 'engineer' 'marketing' 'none' 'healthcare' 'retired'\n",
      " 'salesman' 'doctor']\n"
     ]
    }
   ],
   "source": [
    "import pandas as pd\n",
    "users = \"https://raw.githubusercontent.com/justmarkham/DAT8/master/data/u.user\"\n",
    "dataSet = pd.read_csv(users,sep='|',index_col=\"user_id\")\n",
    "print(\"Different Occupations : \\n\",dataSet['occupation'].unique())"
   ]
  },
  {
   "cell_type": "markdown",
   "metadata": {},
   "source": [
    "Q.6 : What is the most occuring occupation for each gender seperatly?"
   ]
  },
  {
   "cell_type": "code",
   "execution_count": 53,
   "metadata": {},
   "outputs": [
    {
     "name": "stdout",
     "output_type": "stream",
     "text": [
      "   gender occupation  count\n",
      "17      F    student     60\n",
      "38      M    student    136\n"
     ]
    }
   ],
   "source": [
    "import pandas as pd\n",
    "users = \"https://raw.githubusercontent.com/justmarkham/DAT8/master/data/u.user\"\n",
    "dataSet = pd.read_csv(users, sep='|', index_col=\"user_id\")\n",
    "genderOccupationCounts = dataSet.groupby(['gender', 'occupation']).size().reset_index(name='count')\n",
    "mostCommonOccupation = genderOccupationCounts.loc[genderOccupationCounts.groupby('gender')['count'].idxmax()]\n",
    "print(mostCommonOccupation[['gender', 'occupation', 'count']])"
   ]
  },
  {
   "cell_type": "markdown",
   "metadata": {},
   "source": [
    "Q.7 : What is the mean age of users?"
   ]
  },
  {
   "cell_type": "code",
   "execution_count": 56,
   "metadata": {},
   "outputs": [
    {
     "name": "stdout",
     "output_type": "stream",
     "text": [
      "Mean of age :  34.05196182396607\n"
     ]
    }
   ],
   "source": [
    "import pandas as pd\n",
    "users = \"https://raw.githubusercontent.com/justmarkham/DAT8/master/data/u.user\"\n",
    "dataSet = pd.read_csv(users, sep='|', index_col=\"user_id\")\n",
    "print(\"Mean of age : \",dataSet['age'].mean())"
   ]
  },
  {
   "cell_type": "markdown",
   "metadata": {},
   "source": [
    "Q.8 : Display the users who have age more than 40"
   ]
  },
  {
   "cell_type": "code",
   "execution_count": 60,
   "metadata": {},
   "outputs": [
    {
     "name": "stdout",
     "output_type": "stream",
     "text": [
      "Age > 40 : \n",
      "\n",
      "          age gender     occupation zip_code\n",
      "user_id                                    \n",
      "2         53      F          other    94043\n",
      "6         42      M      executive    98101\n",
      "7         57      M  administrator    91344\n",
      "10        53      M         lawyer    90703\n",
      "13        47      M       educator    29206\n",
      "...      ...    ...            ...      ...\n",
      "932       58      M       educator    06437\n",
      "934       61      M       engineer    22902\n",
      "935       42      M         doctor    66221\n",
      "937       48      M       educator    98072\n",
      "942       48      F      librarian    78209\n",
      "\n",
      "[272 rows x 4 columns]\n"
     ]
    }
   ],
   "source": [
    "import pandas as pd\n",
    "users = \"https://raw.githubusercontent.com/justmarkham/DAT8/master/data/u.user\"\n",
    "dataSet = pd.read_csv(users, sep='|', index_col=\"user_id\")\n",
    "print(\"Age > 40 : \\n\\n\",dataSet[dataSet['age'] > 40])"
   ]
  },
  {
   "cell_type": "markdown",
   "metadata": {},
   "source": [
    "Q.9 : Find max and min value from each numeric column"
   ]
  },
  {
   "cell_type": "code",
   "execution_count": 65,
   "metadata": {},
   "outputs": [
    {
     "name": "stdout",
     "output_type": "stream",
     "text": [
      "Max values:\n",
      "\n",
      " age               73\n",
      "gender             M\n",
      "occupation    writer\n",
      "zip_code       Y1A6B\n",
      "dtype: object\n",
      "------------------------------\n",
      "Min values:\n",
      "\n",
      " age                       7\n",
      "gender                    F\n",
      "occupation    administrator\n",
      "zip_code              00000\n",
      "dtype: object\n"
     ]
    }
   ],
   "source": [
    "import pandas as pd\n",
    "users = \"https://raw.githubusercontent.com/justmarkham/DAT8/master/data/u.user\"\n",
    "dataSet = pd.read_csv(users, sep='|', index_col=\"user_id\")\n",
    "print(\"Max values:\\n\\n\", dataSet.max())\n",
    "print(\"-\"*30)\n",
    "print(\"Min values:\\n\\n\", dataSet.min())"
   ]
  },
  {
   "cell_type": "markdown",
   "metadata": {},
   "source": [
    "Q.10 : Find smallest and largest string from occupation column"
   ]
  },
  {
   "cell_type": "code",
   "execution_count": 67,
   "metadata": {},
   "outputs": [
    {
     "name": "stdout",
     "output_type": "stream",
     "text": [
      "Max string:  writer\n",
      "Min string:  administrator\n"
     ]
    }
   ],
   "source": [
    "import pandas as pd\n",
    "users = \"https://raw.githubusercontent.com/justmarkham/DAT8/master/data/u.user\"\n",
    "dataSet = pd.read_csv(users, sep='|', index_col=\"user_id\")\n",
    "print(\"Max string: \", dataSet['occupation'].max())\n",
    "print(\"Min string: \", dataSet['occupation'].min())"
   ]
  }
 ],
 "metadata": {
  "kernelspec": {
   "display_name": "Python 3",
   "language": "python",
   "name": "python3"
  },
  "language_info": {
   "codemirror_mode": {
    "name": "ipython",
    "version": 3
   },
   "file_extension": ".py",
   "mimetype": "text/x-python",
   "name": "python",
   "nbconvert_exporter": "python",
   "pygments_lexer": "ipython3",
   "version": "3.12.3"
  }
 },
 "nbformat": 4,
 "nbformat_minor": 2
}
