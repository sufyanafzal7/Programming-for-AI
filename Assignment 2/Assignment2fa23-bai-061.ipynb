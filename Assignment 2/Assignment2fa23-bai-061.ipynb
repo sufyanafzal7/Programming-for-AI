{
 "cells": [
  {
   "cell_type": "markdown",
   "id": "feccbf46",
   "metadata": {},
   "source": [
    "--------------------------------------------------------------"
   ]
  },
  {
   "cell_type": "markdown",
   "id": "21a51fa0",
   "metadata": {},
   "source": [
    "Name : \"Sufyan Afzal\" , Reg No : \"FA23-BAI-061\""
   ]
  },
  {
   "cell_type": "markdown",
   "id": "807a2e13",
   "metadata": {},
   "source": [
    "--------------------------------------------------------------"
   ]
  },
  {
   "cell_type": "markdown",
   "id": "a9442f31",
   "metadata": {},
   "source": [
    "Assignment 2"
   ]
  },
  {
   "cell_type": "markdown",
   "id": "4e61fc94",
   "metadata": {},
   "source": [
    "--------------------------------------------------------------"
   ]
  },
  {
   "cell_type": "markdown",
   "id": "5e0aca50",
   "metadata": {},
   "source": [
    "1.\tData Understanding and Cleaning:"
   ]
  },
  {
   "cell_type": "markdown",
   "id": "3400fcb5",
   "metadata": {},
   "source": [
    "o\tLoad the dataset using Python (Pandas, NumPy)."
   ]
  },
  {
   "cell_type": "code",
   "execution_count": 3,
   "id": "3c6e468f",
   "metadata": {},
   "outputs": [],
   "source": [
    "import numpy as np\n",
    "import pandas as pd\n",
    "file1 = pd.read_csv('heart_2020_cleaned.csv', sep=',')\n",
    "file2 = pd.read_csv('heart_2022_no_nans.csv', sep=',')\n",
    "file3 = pd.read_csv('heart_2022_with_nans.csv', sep=',')"
   ]
  },
  {
   "cell_type": "markdown",
   "id": "6e4f0d1d",
   "metadata": {},
   "source": [
    "o\tDisplay the first five rows and check the data types."
   ]
  },
  {
   "cell_type": "code",
   "execution_count": 5,
   "id": "4f99c4f3",
   "metadata": {},
   "outputs": [
    {
     "name": "stdout",
     "output_type": "stream",
     "text": [
      "  HeartDisease    BMI Smoking AlcoholDrinking Stroke  PhysicalHealth  \\\n",
      "0           No  16.60     Yes              No     No             3.0   \n",
      "1           No  20.34      No              No    Yes             0.0   \n",
      "2           No  26.58     Yes              No     No            20.0   \n",
      "3           No  24.21      No              No     No             0.0   \n",
      "4           No  23.71      No              No     No            28.0   \n",
      "\n",
      "   MentalHealth DiffWalking     Sex  AgeCategory   Race Diabetic  \\\n",
      "0          30.0          No  Female        55-59  White      Yes   \n",
      "1           0.0          No  Female  80 or older  White       No   \n",
      "2          30.0          No    Male        65-69  White      Yes   \n",
      "3           0.0          No  Female        75-79  White       No   \n",
      "4           0.0         Yes  Female        40-44  White       No   \n",
      "\n",
      "  PhysicalActivity  GenHealth  SleepTime Asthma KidneyDisease SkinCancer  \n",
      "0              Yes  Very good        5.0    Yes            No        Yes  \n",
      "1              Yes  Very good        7.0     No            No         No  \n",
      "2              Yes       Fair        8.0    Yes            No         No  \n",
      "3               No       Good        6.0     No            No        Yes  \n",
      "4              Yes  Very good        8.0     No            No         No  \n",
      "------------------------------\n",
      "     State     Sex GeneralHealth  PhysicalHealthDays  MentalHealthDays  \\\n",
      "0  Alabama  Female     Very good                 4.0               0.0   \n",
      "1  Alabama    Male     Very good                 0.0               0.0   \n",
      "2  Alabama    Male     Very good                 0.0               0.0   \n",
      "3  Alabama  Female          Fair                 5.0               0.0   \n",
      "4  Alabama  Female          Good                 3.0              15.0   \n",
      "\n",
      "                                     LastCheckupTime PhysicalActivities  \\\n",
      "0  Within past year (anytime less than 12 months ...                Yes   \n",
      "1  Within past year (anytime less than 12 months ...                Yes   \n",
      "2  Within past year (anytime less than 12 months ...                 No   \n",
      "3  Within past year (anytime less than 12 months ...                Yes   \n",
      "4  Within past year (anytime less than 12 months ...                Yes   \n",
      "\n",
      "   SleepHours            RemovedTeeth HadHeartAttack  ... HeightInMeters  \\\n",
      "0         9.0            None of them             No  ...           1.60   \n",
      "1         6.0            None of them             No  ...           1.78   \n",
      "2         8.0  6 or more, but not all             No  ...           1.85   \n",
      "3         9.0            None of them             No  ...           1.70   \n",
      "4         5.0                  1 to 5             No  ...           1.55   \n",
      "\n",
      "  WeightInKilograms    BMI AlcoholDrinkers HIVTesting FluVaxLast12  \\\n",
      "0             71.67  27.99              No         No          Yes   \n",
      "1             95.25  30.13              No         No          Yes   \n",
      "2            108.86  31.66             Yes         No           No   \n",
      "3             90.72  31.32              No         No          Yes   \n",
      "4             79.38  33.07              No         No          Yes   \n",
      "\n",
      "  PneumoVaxEver                                  TetanusLast10Tdap  \\\n",
      "0           Yes                                 Yes, received Tdap   \n",
      "1           Yes  Yes, received tetanus shot but not sure what type   \n",
      "2           Yes  No, did not receive any tetanus shot in the pa...   \n",
      "3           Yes  No, did not receive any tetanus shot in the pa...   \n",
      "4           Yes  No, did not receive any tetanus shot in the pa...   \n",
      "\n",
      "  HighRiskLastYear CovidPos  \n",
      "0               No       No  \n",
      "1               No       No  \n",
      "2               No      Yes  \n",
      "3               No      Yes  \n",
      "4               No       No  \n",
      "\n",
      "[5 rows x 40 columns]\n",
      "------------------------------\n",
      "     State     Sex GeneralHealth  PhysicalHealthDays  MentalHealthDays  \\\n",
      "0  Alabama  Female     Very good                 0.0               0.0   \n",
      "1  Alabama  Female     Excellent                 0.0               0.0   \n",
      "2  Alabama  Female     Very good                 2.0               3.0   \n",
      "3  Alabama  Female     Excellent                 0.0               0.0   \n",
      "4  Alabama  Female          Fair                 2.0               0.0   \n",
      "\n",
      "                                     LastCheckupTime PhysicalActivities  \\\n",
      "0  Within past year (anytime less than 12 months ...                 No   \n",
      "1                                                NaN                 No   \n",
      "2  Within past year (anytime less than 12 months ...                Yes   \n",
      "3  Within past year (anytime less than 12 months ...                Yes   \n",
      "4  Within past year (anytime less than 12 months ...                Yes   \n",
      "\n",
      "   SleepHours RemovedTeeth HadHeartAttack  ... HeightInMeters  \\\n",
      "0         8.0          NaN             No  ...            NaN   \n",
      "1         6.0          NaN             No  ...           1.60   \n",
      "2         5.0          NaN             No  ...           1.57   \n",
      "3         7.0          NaN             No  ...           1.65   \n",
      "4         9.0          NaN             No  ...           1.57   \n",
      "\n",
      "  WeightInKilograms    BMI AlcoholDrinkers HIVTesting FluVaxLast12  \\\n",
      "0               NaN    NaN              No         No          Yes   \n",
      "1             68.04  26.57              No         No           No   \n",
      "2             63.50  25.61              No         No           No   \n",
      "3             63.50  23.30              No         No          Yes   \n",
      "4             53.98  21.77             Yes         No           No   \n",
      "\n",
      "  PneumoVaxEver                                  TetanusLast10Tdap  \\\n",
      "0            No  Yes, received tetanus shot but not sure what type   \n",
      "1            No  No, did not receive any tetanus shot in the pa...   \n",
      "2            No                                                NaN   \n",
      "3           Yes  No, did not receive any tetanus shot in the pa...   \n",
      "4           Yes  No, did not receive any tetanus shot in the pa...   \n",
      "\n",
      "  HighRiskLastYear CovidPos  \n",
      "0               No       No  \n",
      "1               No       No  \n",
      "2               No      Yes  \n",
      "3               No       No  \n",
      "4               No       No  \n",
      "\n",
      "[5 rows x 40 columns]\n"
     ]
    }
   ],
   "source": [
    "import numpy as np\n",
    "import pandas as pd\n",
    "file1 = pd.read_csv('heart_2020_cleaned.csv', sep=',')\n",
    "file2 = pd.read_csv('heart_2022_no_nans.csv', sep=',')\n",
    "file3 = pd.read_csv('heart_2022_with_nans.csv', sep=',')\n",
    "print(file1.head(5))\n",
    "print('-'*30)\n",
    "print(file2.head(5))\n",
    "print('-'*30)\n",
    "print(file3.head(5))"
   ]
  },
  {
   "cell_type": "code",
   "execution_count": 7,
   "id": "3e288aae",
   "metadata": {},
   "outputs": [
    {
     "name": "stdout",
     "output_type": "stream",
     "text": [
      "HeartDisease         object\n",
      "BMI                 float64\n",
      "Smoking              object\n",
      "AlcoholDrinking      object\n",
      "Stroke               object\n",
      "PhysicalHealth      float64\n",
      "MentalHealth        float64\n",
      "DiffWalking          object\n",
      "Sex                  object\n",
      "AgeCategory          object\n",
      "Race                 object\n",
      "Diabetic             object\n",
      "PhysicalActivity     object\n",
      "GenHealth            object\n",
      "SleepTime           float64\n",
      "Asthma               object\n",
      "KidneyDisease        object\n",
      "SkinCancer           object\n",
      "dtype: object\n",
      "--------------------------------------------------\n",
      "State                         object\n",
      "Sex                           object\n",
      "GeneralHealth                 object\n",
      "PhysicalHealthDays           float64\n",
      "MentalHealthDays             float64\n",
      "LastCheckupTime               object\n",
      "PhysicalActivities            object\n",
      "SleepHours                   float64\n",
      "RemovedTeeth                  object\n",
      "HadHeartAttack                object\n",
      "HadAngina                     object\n",
      "HadStroke                     object\n",
      "HadAsthma                     object\n",
      "HadSkinCancer                 object\n",
      "HadCOPD                       object\n",
      "HadDepressiveDisorder         object\n",
      "HadKidneyDisease              object\n",
      "HadArthritis                  object\n",
      "HadDiabetes                   object\n",
      "DeafOrHardOfHearing           object\n",
      "BlindOrVisionDifficulty       object\n",
      "DifficultyConcentrating       object\n",
      "DifficultyWalking             object\n",
      "DifficultyDressingBathing     object\n",
      "DifficultyErrands             object\n",
      "SmokerStatus                  object\n",
      "ECigaretteUsage               object\n",
      "ChestScan                     object\n",
      "RaceEthnicityCategory         object\n",
      "AgeCategory                   object\n",
      "HeightInMeters               float64\n",
      "WeightInKilograms            float64\n",
      "BMI                          float64\n",
      "AlcoholDrinkers               object\n",
      "HIVTesting                    object\n",
      "FluVaxLast12                  object\n",
      "PneumoVaxEver                 object\n",
      "TetanusLast10Tdap             object\n",
      "HighRiskLastYear              object\n",
      "CovidPos                      object\n",
      "dtype: object\n",
      "--------------------------------------------------\n",
      "State                         object\n",
      "Sex                           object\n",
      "GeneralHealth                 object\n",
      "PhysicalHealthDays           float64\n",
      "MentalHealthDays             float64\n",
      "LastCheckupTime               object\n",
      "PhysicalActivities            object\n",
      "SleepHours                   float64\n",
      "RemovedTeeth                  object\n",
      "HadHeartAttack                object\n",
      "HadAngina                     object\n",
      "HadStroke                     object\n",
      "HadAsthma                     object\n",
      "HadSkinCancer                 object\n",
      "HadCOPD                       object\n",
      "HadDepressiveDisorder         object\n",
      "HadKidneyDisease              object\n",
      "HadArthritis                  object\n",
      "HadDiabetes                   object\n",
      "DeafOrHardOfHearing           object\n",
      "BlindOrVisionDifficulty       object\n",
      "DifficultyConcentrating       object\n",
      "DifficultyWalking             object\n",
      "DifficultyDressingBathing     object\n",
      "DifficultyErrands             object\n",
      "SmokerStatus                  object\n",
      "ECigaretteUsage               object\n",
      "ChestScan                     object\n",
      "RaceEthnicityCategory         object\n",
      "AgeCategory                   object\n",
      "HeightInMeters               float64\n",
      "WeightInKilograms            float64\n",
      "BMI                          float64\n",
      "AlcoholDrinkers               object\n",
      "HIVTesting                    object\n",
      "FluVaxLast12                  object\n",
      "PneumoVaxEver                 object\n",
      "TetanusLast10Tdap             object\n",
      "HighRiskLastYear              object\n",
      "CovidPos                      object\n",
      "dtype: object\n"
     ]
    }
   ],
   "source": [
    "import numpy as np\n",
    "import pandas as pd\n",
    "file1 = pd.read_csv('heart_2020_cleaned.csv', sep=',')\n",
    "file2 = pd.read_csv('heart_2022_no_nans.csv', sep=',')\n",
    "file3 = pd.read_csv('heart_2022_with_nans.csv', sep=',')\n",
    "print(file1.dtypes)\n",
    "print('-'*50)\n",
    "print(file2.dtypes)\n",
    "print('-'*50)\n",
    "print(file3.dtypes)"
   ]
  },
  {
   "cell_type": "markdown",
   "id": "06d647a9",
   "metadata": {},
   "source": [
    "o\tIdentify and handle missing values."
   ]
  },
  {
   "cell_type": "code",
   "execution_count": 9,
   "id": "1b30665e",
   "metadata": {},
   "outputs": [
    {
     "name": "stdout",
     "output_type": "stream",
     "text": [
      "File 1 : HeartDisease        0\n",
      "BMI                 0\n",
      "Smoking             0\n",
      "AlcoholDrinking     0\n",
      "Stroke              0\n",
      "PhysicalHealth      0\n",
      "MentalHealth        0\n",
      "DiffWalking         0\n",
      "Sex                 0\n",
      "AgeCategory         0\n",
      "Race                0\n",
      "Diabetic            0\n",
      "PhysicalActivity    0\n",
      "GenHealth           0\n",
      "SleepTime           0\n",
      "Asthma              0\n",
      "KidneyDisease       0\n",
      "SkinCancer          0\n",
      "dtype: int64\n",
      "File 2 : State                        0\n",
      "Sex                          0\n",
      "GeneralHealth                0\n",
      "PhysicalHealthDays           0\n",
      "MentalHealthDays             0\n",
      "LastCheckupTime              0\n",
      "PhysicalActivities           0\n",
      "SleepHours                   0\n",
      "RemovedTeeth                 0\n",
      "HadHeartAttack               0\n",
      "HadAngina                    0\n",
      "HadStroke                    0\n",
      "HadAsthma                    0\n",
      "HadSkinCancer                0\n",
      "HadCOPD                      0\n",
      "HadDepressiveDisorder        0\n",
      "HadKidneyDisease             0\n",
      "HadArthritis                 0\n",
      "HadDiabetes                  0\n",
      "DeafOrHardOfHearing          0\n",
      "BlindOrVisionDifficulty      0\n",
      "DifficultyConcentrating      0\n",
      "DifficultyWalking            0\n",
      "DifficultyDressingBathing    0\n",
      "DifficultyErrands            0\n",
      "SmokerStatus                 0\n",
      "ECigaretteUsage              0\n",
      "ChestScan                    0\n",
      "RaceEthnicityCategory        0\n",
      "AgeCategory                  0\n",
      "HeightInMeters               0\n",
      "WeightInKilograms            0\n",
      "BMI                          0\n",
      "AlcoholDrinkers              0\n",
      "HIVTesting                   0\n",
      "FluVaxLast12                 0\n",
      "PneumoVaxEver                0\n",
      "TetanusLast10Tdap            0\n",
      "HighRiskLastYear             0\n",
      "CovidPos                     0\n",
      "dtype: int64\n",
      "File 3 : State                            0\n",
      "Sex                              0\n",
      "GeneralHealth                 1198\n",
      "PhysicalHealthDays           10927\n",
      "MentalHealthDays              9067\n",
      "LastCheckupTime               8308\n",
      "PhysicalActivities            1093\n",
      "SleepHours                    5453\n",
      "RemovedTeeth                 11360\n",
      "HadHeartAttack                3065\n",
      "HadAngina                     4405\n",
      "HadStroke                     1557\n",
      "HadAsthma                     1773\n",
      "HadSkinCancer                 3143\n",
      "HadCOPD                       2219\n",
      "HadDepressiveDisorder         2812\n",
      "HadKidneyDisease              1926\n",
      "HadArthritis                  2633\n",
      "HadDiabetes                   1087\n",
      "DeafOrHardOfHearing          20647\n",
      "BlindOrVisionDifficulty      21564\n",
      "DifficultyConcentrating      24240\n",
      "DifficultyWalking            24012\n",
      "DifficultyDressingBathing    23915\n",
      "DifficultyErrands            25656\n",
      "SmokerStatus                 35462\n",
      "ECigaretteUsage              35660\n",
      "ChestScan                    56046\n",
      "RaceEthnicityCategory        14057\n",
      "AgeCategory                   9079\n",
      "HeightInMeters               28652\n",
      "WeightInKilograms            42078\n",
      "BMI                          48806\n",
      "AlcoholDrinkers              46574\n",
      "HIVTesting                   66127\n",
      "FluVaxLast12                 47121\n",
      "PneumoVaxEver                77040\n",
      "TetanusLast10Tdap            82516\n",
      "HighRiskLastYear             50623\n",
      "CovidPos                     50764\n",
      "dtype: int64\n"
     ]
    }
   ],
   "source": [
    "import numpy as np\n",
    "import pandas as pd\n",
    "file1 = pd.read_csv('heart_2020_cleaned.csv', sep=',')\n",
    "file2 = pd.read_csv('heart_2022_no_nans.csv', sep=',')\n",
    "file3 = pd.read_csv('heart_2022_with_nans.csv', sep=',')\n",
    "print(\"File 1 :\",file1.isnull().sum())\n",
    "print(\"File 2 :\",file2.isnull().sum())\n",
    "print(\"File 3 :\",file3.isnull().sum())"
   ]
  },
  {
   "cell_type": "code",
   "execution_count": 11,
   "id": "1ef34e1e",
   "metadata": {},
   "outputs": [
    {
     "name": "stdout",
     "output_type": "stream",
     "text": [
      "File 1 : HeartDisease        0\n",
      "BMI                 0\n",
      "Smoking             0\n",
      "AlcoholDrinking     0\n",
      "Stroke              0\n",
      "PhysicalHealth      0\n",
      "MentalHealth        0\n",
      "DiffWalking         0\n",
      "Sex                 0\n",
      "AgeCategory         0\n",
      "Race                0\n",
      "Diabetic            0\n",
      "PhysicalActivity    0\n",
      "GenHealth           0\n",
      "SleepTime           0\n",
      "Asthma              0\n",
      "KidneyDisease       0\n",
      "SkinCancer          0\n",
      "dtype: int64\n",
      "File 2 : State                        0\n",
      "Sex                          0\n",
      "GeneralHealth                0\n",
      "PhysicalHealthDays           0\n",
      "MentalHealthDays             0\n",
      "LastCheckupTime              0\n",
      "PhysicalActivities           0\n",
      "SleepHours                   0\n",
      "RemovedTeeth                 0\n",
      "HadHeartAttack               0\n",
      "HadAngina                    0\n",
      "HadStroke                    0\n",
      "HadAsthma                    0\n",
      "HadSkinCancer                0\n",
      "HadCOPD                      0\n",
      "HadDepressiveDisorder        0\n",
      "HadKidneyDisease             0\n",
      "HadArthritis                 0\n",
      "HadDiabetes                  0\n",
      "DeafOrHardOfHearing          0\n",
      "BlindOrVisionDifficulty      0\n",
      "DifficultyConcentrating      0\n",
      "DifficultyWalking            0\n",
      "DifficultyDressingBathing    0\n",
      "DifficultyErrands            0\n",
      "SmokerStatus                 0\n",
      "ECigaretteUsage              0\n",
      "ChestScan                    0\n",
      "RaceEthnicityCategory        0\n",
      "AgeCategory                  0\n",
      "HeightInMeters               0\n",
      "WeightInKilograms            0\n",
      "BMI                          0\n",
      "AlcoholDrinkers              0\n",
      "HIVTesting                   0\n",
      "FluVaxLast12                 0\n",
      "PneumoVaxEver                0\n",
      "TetanusLast10Tdap            0\n",
      "HighRiskLastYear             0\n",
      "CovidPos                     0\n",
      "dtype: int64\n",
      "File 3 : State                          0\n",
      "Sex                            0\n",
      "GeneralHealth                  0\n",
      "PhysicalHealthDays             0\n",
      "MentalHealthDays               0\n",
      "LastCheckupTime                0\n",
      "PhysicalActivities             0\n",
      "SleepHours                     0\n",
      "RemovedTeeth                 342\n",
      "HadHeartAttack                 0\n",
      "HadAngina                      0\n",
      "HadStroke                      0\n",
      "HadAsthma                      0\n",
      "HadSkinCancer                  0\n",
      "HadCOPD                        0\n",
      "HadDepressiveDisorder          0\n",
      "HadKidneyDisease               0\n",
      "HadArthritis                   0\n",
      "HadDiabetes                    0\n",
      "DeafOrHardOfHearing            0\n",
      "BlindOrVisionDifficulty        0\n",
      "DifficultyConcentrating        0\n",
      "DifficultyWalking              0\n",
      "DifficultyDressingBathing      0\n",
      "DifficultyErrands              0\n",
      "SmokerStatus                   0\n",
      "ECigaretteUsage                0\n",
      "ChestScan                      0\n",
      "RaceEthnicityCategory          0\n",
      "AgeCategory                    0\n",
      "HeightInMeters                 1\n",
      "WeightInKilograms              1\n",
      "BMI                            1\n",
      "AlcoholDrinkers                0\n",
      "HIVTesting                     0\n",
      "FluVaxLast12                   0\n",
      "PneumoVaxEver                  0\n",
      "TetanusLast10Tdap              0\n",
      "HighRiskLastYear               0\n",
      "CovidPos                       0\n",
      "dtype: int64\n"
     ]
    }
   ],
   "source": [
    "import numpy as np\n",
    "import pandas as pd\n",
    "file1 = pd.read_csv('heart_2020_cleaned.csv', sep=',')\n",
    "file2 = pd.read_csv('heart_2022_no_nans.csv', sep=',')\n",
    "file3 = pd.read_csv('heart_2022_with_nans.csv', sep=',')\n",
    "file1.ffill(inplace=True)\n",
    "file2.ffill(inplace=True)\n",
    "file3.ffill(inplace=True)\n",
    "print(\"File 1 :\",file1.isnull().sum())\n",
    "print(\"File 2 :\",file2.isnull().sum())\n",
    "print(\"File 3 :\",file3.isnull().sum())"
   ]
  },
  {
   "cell_type": "markdown",
   "id": "46256537",
   "metadata": {},
   "source": [
    "o\tRemove duplicate rows if any."
   ]
  },
  {
   "cell_type": "code",
   "execution_count": 13,
   "id": "4943c391",
   "metadata": {},
   "outputs": [
    {
     "name": "stdout",
     "output_type": "stream",
     "text": [
      "Dupliactes Removed from all Files\n"
     ]
    }
   ],
   "source": [
    "import numpy as np\n",
    "import pandas as pd\n",
    "file1 = pd.read_csv('heart_2020_cleaned.csv', sep=',')\n",
    "file2 = pd.read_csv('heart_2022_no_nans.csv', sep=',')\n",
    "file3 = pd.read_csv('heart_2022_with_nans.csv', sep=',')\n",
    "file1.drop_duplicates(inplace=True)\n",
    "file2.drop_duplicates(inplace=True)\n",
    "file3.drop_duplicates(inplace=True)\n",
    "print(\"Dupliactes Removed from all Files\")"
   ]
  },
  {
   "cell_type": "markdown",
   "id": "6f6f78a5",
   "metadata": {},
   "source": [
    "o\tIdentify and handle outliers if applicable."
   ]
  },
  {
   "cell_type": "code",
   "execution_count": 14,
   "id": "38fbda31",
   "metadata": {},
   "outputs": [
    {
     "name": "stdout",
     "output_type": "stream",
     "text": [
      "46988\n",
      "40617\n",
      "0\n"
     ]
    }
   ],
   "source": [
    "import numpy as np\n",
    "import pandas as pd\n",
    "from scipy import stats\n",
    "file1 = pd.read_csv('heart_2020_cleaned.csv', sep=',')\n",
    "file2 = pd.read_csv('heart_2022_no_nans.csv', sep=',')\n",
    "file3 = pd.read_csv('heart_2022_with_nans.csv', sep=',')\n",
    "z_scores1 = np.abs(stats.zscore(file1.select_dtypes(include= np.number)))\n",
    "outliers1 = (z_scores1 > 3)\n",
    "print(outliers1.sum())\n",
    "z_scores2 = np.abs(stats.zscore(file2.select_dtypes(include= np.number)))\n",
    "outliers2 = (z_scores2 > 3)\n",
    "print(outliers2.sum())\n",
    "z_scores3 = np.abs(stats.zscore(file3.select_dtypes(include= np.number)))\n",
    "outliers3 = (z_scores3 > 3)\n",
    "print(outliers3.sum())"
   ]
  },
  {
   "cell_type": "code",
   "execution_count": 15,
   "id": "71ecd421",
   "metadata": {},
   "outputs": [
    {
     "name": "stdout",
     "output_type": "stream",
     "text": [
      "46988\n",
      "40617\n",
      "0\n",
      "Handling Outliers\n",
      "Outliers Handling Complete\n"
     ]
    }
   ],
   "source": [
    "import numpy as np\n",
    "import pandas as pd\n",
    "from scipy import stats\n",
    "file1 = pd.read_csv('heart_2020_cleaned.csv', sep=',')\n",
    "file2 = pd.read_csv('heart_2022_no_nans.csv', sep=',')\n",
    "file3 = pd.read_csv('heart_2022_with_nans.csv', sep=',')\n",
    "z_scores1 = np.abs(stats.zscore(file1.select_dtypes(include= np.number)))\n",
    "outliers1 = (z_scores1 > 3)\n",
    "print(outliers1.sum())\n",
    "z_scores2 = np.abs(stats.zscore(file2.select_dtypes(include= np.number)))\n",
    "outliers2 = (z_scores2 > 3)\n",
    "print(outliers2.sum())\n",
    "z_scores3 = np.abs(stats.zscore(file3.select_dtypes(include= np.number)))\n",
    "outliers3 = (z_scores3 > 3)\n",
    "print(outliers3.sum())\n",
    "print(\"Handling Outliers\")\n",
    "file1_cleaned = file1[(z_scores1 > 3).all(axis= 1)]\n",
    "file2_cleaned = file2[(z_scores2 > 3).all(axis= 1)]\n",
    "file3_cleaned = file3[(z_scores3 > 3).all(axis= 1)]\n",
    "print(\"Outliers Handling Complete\")"
   ]
  },
  {
   "cell_type": "markdown",
   "id": "576bd365",
   "metadata": {},
   "source": [
    "-----------------------------------------"
   ]
  },
  {
   "cell_type": "markdown",
   "id": "ce40079d",
   "metadata": {},
   "source": [
    "2.\tDescriptive Statistics:"
   ]
  },
  {
   "cell_type": "markdown",
   "id": "3b228f4e",
   "metadata": {},
   "source": [
    "---------------------------------------"
   ]
  },
  {
   "cell_type": "markdown",
   "id": "8f6e769a",
   "metadata": {},
   "source": [
    "o\tCompute basic statistical measures (mean, median, mode, standard deviation, etc.)."
   ]
  },
  {
   "cell_type": "code",
   "execution_count": 18,
   "id": "ee5a4a82",
   "metadata": {},
   "outputs": [
    {
     "name": "stdout",
     "output_type": "stream",
     "text": [
      "File 1 Mean : \n",
      " BMI               28.325399\n",
      "PhysicalHealth     3.371710\n",
      "MentalHealth       3.898366\n",
      "SleepTime          7.097075\n",
      "dtype: float64\n",
      "File 1 Median : \n",
      " BMI               27.34\n",
      "PhysicalHealth     0.00\n",
      "MentalHealth       0.00\n",
      "SleepTime          7.00\n",
      "dtype: float64\n",
      "File 1 Mode : \n",
      "      BMI  PhysicalHealth  MentalHealth  SleepTime\n",
      "0  26.63             0.0           0.0        7.0\n",
      "File 1 Standard Deviation : \n",
      " BMI               6.356100\n",
      "PhysicalHealth    7.950850\n",
      "MentalHealth      7.955235\n",
      "SleepTime         1.436007\n",
      "dtype: float64\n",
      "**************************************************\n",
      "File 2 Mean : \n",
      " PhysicalHealthDays     4.119026\n",
      "MentalHealthDays       4.167140\n",
      "SleepHours             7.021331\n",
      "HeightInMeters         1.705150\n",
      "WeightInKilograms     83.615179\n",
      "BMI                   28.668136\n",
      "dtype: float64\n",
      "File 2 Median : \n",
      " PhysicalHealthDays     0.00\n",
      "MentalHealthDays       0.00\n",
      "SleepHours             7.00\n",
      "HeightInMeters         1.70\n",
      "WeightInKilograms     81.65\n",
      "BMI                   27.46\n",
      "dtype: float64\n",
      "File 2 Mode : \n",
      "    PhysicalHealthDays  MentalHealthDays  SleepHours  HeightInMeters  \\\n",
      "0                 0.0               0.0         7.0            1.68   \n",
      "\n",
      "   WeightInKilograms    BMI  \n",
      "0              90.72  26.63  \n",
      "File 2 Standard Deviation : \n",
      " PhysicalHealthDays     8.405844\n",
      "MentalHealthDays       8.102687\n",
      "SleepHours             1.440681\n",
      "HeightInMeters         0.106654\n",
      "WeightInKilograms     21.323156\n",
      "BMI                    6.513973\n",
      "dtype: float64\n",
      "**************************************************\n",
      "File 3 Mean : \n",
      " PhysicalHealthDays     4.347919\n",
      "MentalHealthDays       4.382649\n",
      "SleepHours             7.022983\n",
      "HeightInMeters         1.702691\n",
      "WeightInKilograms     83.074470\n",
      "BMI                   28.529842\n",
      "dtype: float64\n",
      "File 3 Median : \n",
      " PhysicalHealthDays     0.00\n",
      "MentalHealthDays       0.00\n",
      "SleepHours             7.00\n",
      "HeightInMeters         1.70\n",
      "WeightInKilograms     80.74\n",
      "BMI                   27.44\n",
      "dtype: float64\n",
      "File 3 Mode : \n",
      "    PhysicalHealthDays  MentalHealthDays  SleepHours  HeightInMeters  \\\n",
      "0                 0.0               0.0         7.0            1.68   \n",
      "\n",
      "   WeightInKilograms    BMI  \n",
      "0              90.72  26.63  \n",
      "File 3 Standard Deviation : \n",
      " PhysicalHealthDays     8.688912\n",
      "MentalHealthDays       8.387475\n",
      "SleepHours             1.502425\n",
      "HeightInMeters         0.107177\n",
      "WeightInKilograms     21.448173\n",
      "BMI                    6.554889\n",
      "dtype: float64\n"
     ]
    }
   ],
   "source": [
    "import numpy as np\n",
    "import pandas as pd\n",
    "file1 = pd.read_csv('heart_2020_cleaned.csv', sep=',')\n",
    "file2 = pd.read_csv('heart_2022_no_nans.csv', sep=',')\n",
    "file3 = pd.read_csv('heart_2022_with_nans.csv', sep=',')\n",
    "print(\"File 1 Mean : \\n\",file1.mean(numeric_only=True))\n",
    "print(\"File 1 Median : \\n\",file1.median(numeric_only=True))\n",
    "print(\"File 1 Mode : \\n\",file1.mode(numeric_only=True))\n",
    "print(\"File 1 Standard Deviation : \\n\",file1.std(numeric_only=True))\n",
    "print(\"*\"*50)\n",
    "print(\"File 2 Mean : \\n\",file2.mean(numeric_only=True))\n",
    "print(\"File 2 Median : \\n\",file2.median(numeric_only=True))\n",
    "print(\"File 2 Mode : \\n\",file2.mode(numeric_only=True))\n",
    "print(\"File 2 Standard Deviation : \\n\",file2.std(numeric_only=True))\n",
    "print(\"*\"*50)\n",
    "print(\"File 3 Mean : \\n\",file3.mean(numeric_only=True))\n",
    "print(\"File 3 Median : \\n\",file3.median(numeric_only=True))\n",
    "print(\"File 3 Mode : \\n\",file3.mode(numeric_only=True))\n",
    "print(\"File 3 Standard Deviation : \\n\",file3.std(numeric_only=True))"
   ]
  },
  {
   "cell_type": "markdown",
   "id": "68704de6",
   "metadata": {},
   "source": [
    "o\tGenerate a correlation matrix to examine feature relationships."
   ]
  },
  {
   "cell_type": "code",
   "execution_count": 20,
   "id": "0ee99af0",
   "metadata": {},
   "outputs": [
    {
     "name": "stdout",
     "output_type": "stream",
     "text": [
      "                     BMI  PhysicalHealth  MentalHealth  SleepTime\n",
      "BMI             1.000000        0.109788      0.064131  -0.051822\n",
      "PhysicalHealth  0.109788        1.000000      0.287987  -0.061387\n",
      "MentalHealth    0.064131        0.287987      1.000000  -0.119717\n",
      "SleepTime      -0.051822       -0.061387     -0.119717   1.000000\n",
      "==================================================\n",
      "                    PhysicalHealthDays  MentalHealthDays  SleepHours  \\\n",
      "PhysicalHealthDays            1.000000          0.306800   -0.056063   \n",
      "MentalHealthDays              0.306800          1.000000   -0.130100   \n",
      "SleepHours                   -0.056063         -0.130100    1.000000   \n",
      "HeightInMeters               -0.049180         -0.056010   -0.011384   \n",
      "WeightInKilograms             0.077505          0.042441   -0.054691   \n",
      "BMI                           0.116905          0.082182   -0.054750   \n",
      "\n",
      "                    HeightInMeters  WeightInKilograms       BMI  \n",
      "PhysicalHealthDays       -0.049180           0.077505  0.116905  \n",
      "MentalHealthDays         -0.056010           0.042441  0.082182  \n",
      "SleepHours               -0.011384          -0.054691 -0.054750  \n",
      "HeightInMeters            1.000000           0.473768 -0.026637  \n",
      "WeightInKilograms         0.473768           1.000000  0.859313  \n",
      "BMI                      -0.026637           0.859313  1.000000  \n",
      "==================================================\n",
      "                    PhysicalHealthDays  MentalHealthDays  SleepHours  \\\n",
      "PhysicalHealthDays            1.000000          0.321349   -0.055906   \n",
      "MentalHealthDays              0.321349          1.000000   -0.129075   \n",
      "SleepHours                   -0.055906         -0.129075    1.000000   \n",
      "HeightInMeters               -0.050867         -0.049473   -0.014668   \n",
      "WeightInKilograms             0.072838          0.040345   -0.053521   \n",
      "BMI                           0.112865          0.075891   -0.050805   \n",
      "\n",
      "                    HeightInMeters  WeightInKilograms       BMI  \n",
      "PhysicalHealthDays       -0.050867           0.072838  0.112865  \n",
      "MentalHealthDays         -0.049473           0.040345  0.075891  \n",
      "SleepHours               -0.014668          -0.053521 -0.050805  \n",
      "HeightInMeters            1.000000           0.467892 -0.028349  \n",
      "WeightInKilograms         0.467892           1.000000  0.859557  \n",
      "BMI                      -0.028349           0.859557  1.000000  \n"
     ]
    }
   ],
   "source": [
    "import numpy as np\n",
    "import pandas as pd\n",
    "file1 = pd.read_csv('heart_2020_cleaned.csv', sep=',')\n",
    "file2 = pd.read_csv('heart_2022_no_nans.csv', sep=',')\n",
    "file3 = pd.read_csv('heart_2022_with_nans.csv', sep=',')\n",
    "corr_matrix_file1 = file1.corr(numeric_only=True)\n",
    "corr_matrix_file2 = file2.corr(numeric_only=True)\n",
    "corr_matrix_file3 = file3.corr(numeric_only=True)\n",
    "print(corr_matrix_file1)\n",
    "print(\"=\"*50)\n",
    "print(corr_matrix_file2)\n",
    "print(\"=\"*50)\n",
    "print(corr_matrix_file3)"
   ]
  },
  {
   "cell_type": "markdown",
   "id": "ae53c4e2",
   "metadata": {},
   "source": [
    "--------------"
   ]
  },
  {
   "cell_type": "markdown",
   "id": "b7d9f0e0",
   "metadata": {},
   "source": [
    "3.\tData Visualization:"
   ]
  },
  {
   "cell_type": "markdown",
   "id": "011cddd1",
   "metadata": {},
   "source": [
    "---"
   ]
  },
  {
   "cell_type": "markdown",
   "id": "602326de",
   "metadata": {},
   "source": [
    "o\tUse Matplotlib and Seaborn to create visualizations, including:"
   ]
  },
  {
   "cell_type": "markdown",
   "id": "3712d3dc",
   "metadata": {},
   "source": [
    "\tHistogram for distribution of key features."
   ]
  },
  {
   "cell_type": "code",
   "execution_count": null,
   "id": "b8b28598",
   "metadata": {},
   "outputs": [
    {
     "name": "stderr",
     "output_type": "stream",
     "text": [
      "C:\\Users\\Google Computers\\AppData\\Local\\Temp\\ipykernel_7540\\4158009928.py:13: UserWarning: FigureCanvasAgg is non-interactive, and thus cannot be shown\n",
      "  plt.show()\n",
      "C:\\Users\\Google Computers\\AppData\\Local\\Temp\\ipykernel_7540\\4158009928.py:8: RuntimeWarning: More than 20 figures have been opened. Figures created through the pyplot interface (`matplotlib.pyplot.figure`) are retained until explicitly closed and may consume too much memory. (To control this warning, see the rcParam `figure.max_open_warning`). Consider using `matplotlib.pyplot.close()`.\n",
      "  plt.figure(figsize=(5,5))\n"
     ]
    }
   ],
   "source": [
    "import numpy as np\n",
    "import pandas as pd\n",
    "import matplotlib.pyplot as plt\n",
    "file1 = pd.read_csv('heart_2020_cleaned.csv', sep=',')\n",
    "file2 = pd.read_csv('heart_2022_no_nans.csv', sep=',')\n",
    "file3 = pd.read_csv('heart_2022_with_nans.csv', sep=',')\n",
    "\n",
    "key_features = ['BMI', 'PhysicalHealth', 'MentalHealth', 'SleepTime']\n",
    "plt.figure(figsize=(15, 10))\n",
    "# file1\n",
    "for i, feature in enumerate(key_features):\n",
    "    plt.subplot(2, 3, i + 1)\n",
    "    file1[feature].hist(bins=20, edgecolor='black')\n",
    "    plt.title(f\"{feature} Distribution\")\n",
    "    plt.xlabel(feature)\n",
    "    plt.ylabel(\"Count\")\n",
    "\n",
    "plt.tight_layout()\n",
    "plt.suptitle(\"Histograms for Distribution of Key Features\", fontsize=16, y=1.02)\n",
    "plt.show()\n"
   ]
  },
  {
   "cell_type": "markdown",
   "id": "63bf5273",
   "metadata": {},
   "source": [
    "\tBoxplot to identify outliers."
   ]
  },
  {
   "cell_type": "code",
   "execution_count": 26,
   "id": "48f0c939",
   "metadata": {},
   "outputs": [
    {
     "name": "stderr",
     "output_type": "stream",
     "text": [
      "C:\\Users\\Google Computers\\AppData\\Local\\Temp\\ipykernel_7540\\324820857.py:9: UserWarning: FigureCanvasAgg is non-interactive, and thus cannot be shown\n",
      "  plt.show()\n",
      "C:\\Users\\Google Computers\\AppData\\Local\\Temp\\ipykernel_7540\\324820857.py:12: UserWarning: FigureCanvasAgg is non-interactive, and thus cannot be shown\n",
      "  plt.show()\n",
      "C:\\Users\\Google Computers\\AppData\\Local\\Temp\\ipykernel_7540\\324820857.py:15: UserWarning: FigureCanvasAgg is non-interactive, and thus cannot be shown\n",
      "  plt.show()\n"
     ]
    }
   ],
   "source": [
    "import numpy as np\n",
    "import pandas as pd\n",
    "import matplotlib.pyplot as plt\n",
    "file1 = pd.read_csv('heart_2020_cleaned.csv', sep=',')\n",
    "file2 = pd.read_csv('heart_2022_no_nans.csv', sep=',')\n",
    "file3 = pd.read_csv('heart_2022_with_nans.csv', sep=',')\n",
    "file1.select_dtypes(include='number').plot(kind='box', figsize=(12, 6), title=\"File 1 : Boxplot for Numerical Features\")\n",
    "plt.xticks(rotation=90)\n",
    "plt.show()\n",
    "file2.select_dtypes(include='number').plot(kind='box', figsize=(12, 6), title=\"File 1 : Boxplot for Numerical Features\")\n",
    "plt.xticks(rotation=90)\n",
    "plt.show()\n",
    "file3.select_dtypes(include='number').plot(kind='box', figsize=(12, 6), title=\"File 1 : Boxplot for Numerical Features\")\n",
    "plt.xticks(rotation=90)\n",
    "plt.show()"
   ]
  },
  {
   "cell_type": "markdown",
   "id": "d5df1152",
   "metadata": {},
   "source": [
    "\tPairplot to examine feature relationships."
   ]
  },
  {
   "cell_type": "code",
   "execution_count": 30,
   "id": "1d97d057",
   "metadata": {},
   "outputs": [
    {
     "name": "stderr",
     "output_type": "stream",
     "text": [
      "C:\\Users\\Google Computers\\AppData\\Local\\Temp\\ipykernel_7540\\956645158.py:12: UserWarning: FigureCanvasAgg is non-interactive, and thus cannot be shown\n",
      "  plt.show()\n"
     ]
    }
   ],
   "source": [
    "import numpy as np\n",
    "import pandas as pd\n",
    "import matplotlib.pyplot as plt\n",
    "import seaborn as sb\n",
    "file1 = pd.read_csv('heart_2020_cleaned.csv', sep=',')\n",
    "file2 = pd.read_csv('heart_2022_no_nans.csv', sep=',')\n",
    "file3 = pd.read_csv('heart_2022_with_nans.csv', sep=',')\n",
    "selected_features = ['BMI', 'PhysicalHealth', 'MentalHealth', 'SleepTime', 'HeartDisease']\n",
    "file1_sample = file1.sample(500, random_state=42)\n",
    "sb.pairplot(file1[selected_features], hue='HeartDisease', palette='Set2')\n",
    "plt.suptitle(\"Pairplot of Key Features Colored by Heart Disease\", y=1.02)\n",
    "plt.show()"
   ]
  },
  {
   "cell_type": "markdown",
   "id": "25b5bcc6",
   "metadata": {},
   "source": [
    "\tHeatmap to visualize correlation among features."
   ]
  },
  {
   "cell_type": "code",
   "execution_count": 28,
   "id": "a3b924ff",
   "metadata": {},
   "outputs": [
    {
     "name": "stderr",
     "output_type": "stream",
     "text": [
      "C:\\Users\\Google Computers\\AppData\\Local\\Temp\\ipykernel_7540\\2788087258.py:11: UserWarning: FigureCanvasAgg is non-interactive, and thus cannot be shown\n",
      "  plt.show()\n"
     ]
    }
   ],
   "source": [
    "import numpy as np\n",
    "import pandas as pd\n",
    "import matplotlib.pyplot as plt\n",
    "import seaborn as sb\n",
    "file1 = pd.read_csv('heart_2020_cleaned.csv', sep=',')\n",
    "file2 = pd.read_csv('heart_2022_no_nans.csv', sep=',')\n",
    "file3 = pd.read_csv('heart_2022_with_nans.csv', sep=',')\n",
    "plt.figure(figsize=(10, 6))\n",
    "sb.heatmap(file1.corr(numeric_only=True), annot=True, cmap='coolwarm')\n",
    "plt.title(\"Fil 1 : Correlation Matrix\")\n",
    "plt.show()"
   ]
  },
  {
   "cell_type": "markdown",
   "id": "58fbd5cf",
   "metadata": {},
   "source": [
    "---------"
   ]
  },
  {
   "cell_type": "markdown",
   "id": "d8a89d32",
   "metadata": {},
   "source": [
    "4.\tFeature Engineering:"
   ]
  },
  {
   "cell_type": "markdown",
   "id": "22016696",
   "metadata": {},
   "source": [
    "------------------"
   ]
  },
  {
   "cell_type": "markdown",
   "id": "49adf472",
   "metadata": {},
   "source": [
    "o\tPerform feature transformation (log, square root, or normalization if needed)."
   ]
  },
  {
   "cell_type": "code",
   "execution_count": 33,
   "id": "c94b8805",
   "metadata": {},
   "outputs": [
    {
     "data": {
      "text/html": [
       "<div>\n",
       "<style scoped>\n",
       "    .dataframe tbody tr th:only-of-type {\n",
       "        vertical-align: middle;\n",
       "    }\n",
       "\n",
       "    .dataframe tbody tr th {\n",
       "        vertical-align: top;\n",
       "    }\n",
       "\n",
       "    .dataframe thead th {\n",
       "        text-align: right;\n",
       "    }\n",
       "</style>\n",
       "<table border=\"1\" class=\"dataframe\">\n",
       "  <thead>\n",
       "    <tr style=\"text-align: right;\">\n",
       "      <th></th>\n",
       "      <th>log_PhysicalHealth</th>\n",
       "      <th>sqrt_MentalHealth</th>\n",
       "      <th>BMI_norm</th>\n",
       "      <th>SleepTime_norm</th>\n",
       "    </tr>\n",
       "  </thead>\n",
       "  <tbody>\n",
       "    <tr>\n",
       "      <th>0</th>\n",
       "      <td>1.386294</td>\n",
       "      <td>5.477226</td>\n",
       "      <td>0.055294</td>\n",
       "      <td>0.173913</td>\n",
       "    </tr>\n",
       "    <tr>\n",
       "      <th>1</th>\n",
       "      <td>0.000000</td>\n",
       "      <td>0.000000</td>\n",
       "      <td>0.100447</td>\n",
       "      <td>0.260870</td>\n",
       "    </tr>\n",
       "    <tr>\n",
       "      <th>2</th>\n",
       "      <td>3.044522</td>\n",
       "      <td>5.477226</td>\n",
       "      <td>0.175782</td>\n",
       "      <td>0.304348</td>\n",
       "    </tr>\n",
       "    <tr>\n",
       "      <th>3</th>\n",
       "      <td>0.000000</td>\n",
       "      <td>0.000000</td>\n",
       "      <td>0.147169</td>\n",
       "      <td>0.217391</td>\n",
       "    </tr>\n",
       "    <tr>\n",
       "      <th>4</th>\n",
       "      <td>3.367296</td>\n",
       "      <td>0.000000</td>\n",
       "      <td>0.141132</td>\n",
       "      <td>0.304348</td>\n",
       "    </tr>\n",
       "  </tbody>\n",
       "</table>\n",
       "</div>"
      ],
      "text/plain": [
       "   log_PhysicalHealth  sqrt_MentalHealth  BMI_norm  SleepTime_norm\n",
       "0            1.386294           5.477226  0.055294        0.173913\n",
       "1            0.000000           0.000000  0.100447        0.260870\n",
       "2            3.044522           5.477226  0.175782        0.304348\n",
       "3            0.000000           0.000000  0.147169        0.217391\n",
       "4            3.367296           0.000000  0.141132        0.304348"
      ]
     },
     "execution_count": 33,
     "metadata": {},
     "output_type": "execute_result"
    }
   ],
   "source": [
    "import numpy as np\n",
    "import pandas as pd\n",
    "import matplotlib.pyplot as plt\n",
    "import seaborn as sb\n",
    "from sklearn.preprocessing import MinMaxScaler\n",
    "df = pd.read_csv('heart_2020_cleaned.csv', sep=',')\n",
    "file2 = pd.read_csv('heart_2022_no_nans.csv', sep=',')\n",
    "file3 = pd.read_csv('heart_2022_with_nans.csv', sep=',')\n",
    "df['log_PhysicalHealth'] = np.log1p(df['PhysicalHealth'])\n",
    "df['sqrt_MentalHealth'] = np.sqrt(df['MentalHealth'])\n",
    "\n",
    "scaler = MinMaxScaler()\n",
    "df[['BMI_norm', 'SleepTime_norm']] = scaler.fit_transform(df[['BMI', 'SleepTime']])\n",
    "\n",
    "df[['log_PhysicalHealth', 'sqrt_MentalHealth', 'BMI_norm', 'SleepTime_norm']].head()"
   ]
  },
  {
   "cell_type": "markdown",
   "id": "4bffae72",
   "metadata": {},
   "source": [
    "o\tCreate new meaningful features if possible."
   ]
  },
  {
   "cell_type": "code",
   "execution_count": 35,
   "id": "4afc2c30",
   "metadata": {},
   "outputs": [
    {
     "data": {
      "text/html": [
       "<div>\n",
       "<style scoped>\n",
       "    .dataframe tbody tr th:only-of-type {\n",
       "        vertical-align: middle;\n",
       "    }\n",
       "\n",
       "    .dataframe tbody tr th {\n",
       "        vertical-align: top;\n",
       "    }\n",
       "\n",
       "    .dataframe thead th {\n",
       "        text-align: right;\n",
       "    }\n",
       "</style>\n",
       "<table border=\"1\" class=\"dataframe\">\n",
       "  <thead>\n",
       "    <tr style=\"text-align: right;\">\n",
       "      <th></th>\n",
       "      <th>HealthBurden</th>\n",
       "      <th>SleepEfficiency</th>\n",
       "      <th>RiskyLifestyle</th>\n",
       "    </tr>\n",
       "  </thead>\n",
       "  <tbody>\n",
       "    <tr>\n",
       "      <th>0</th>\n",
       "      <td>33.0</td>\n",
       "      <td>0</td>\n",
       "      <td>0</td>\n",
       "    </tr>\n",
       "    <tr>\n",
       "      <th>1</th>\n",
       "      <td>0.0</td>\n",
       "      <td>1</td>\n",
       "      <td>0</td>\n",
       "    </tr>\n",
       "    <tr>\n",
       "      <th>2</th>\n",
       "      <td>50.0</td>\n",
       "      <td>1</td>\n",
       "      <td>0</td>\n",
       "    </tr>\n",
       "    <tr>\n",
       "      <th>3</th>\n",
       "      <td>0.0</td>\n",
       "      <td>0</td>\n",
       "      <td>0</td>\n",
       "    </tr>\n",
       "    <tr>\n",
       "      <th>4</th>\n",
       "      <td>28.0</td>\n",
       "      <td>1</td>\n",
       "      <td>0</td>\n",
       "    </tr>\n",
       "  </tbody>\n",
       "</table>\n",
       "</div>"
      ],
      "text/plain": [
       "   HealthBurden  SleepEfficiency  RiskyLifestyle\n",
       "0          33.0                0               0\n",
       "1           0.0                1               0\n",
       "2          50.0                1               0\n",
       "3           0.0                0               0\n",
       "4          28.0                1               0"
      ]
     },
     "execution_count": 35,
     "metadata": {},
     "output_type": "execute_result"
    }
   ],
   "source": [
    "import numpy as np\n",
    "import pandas as pd\n",
    "import matplotlib.pyplot as plt\n",
    "import seaborn as sb\n",
    "from sklearn.preprocessing import MinMaxScaler\n",
    "df = pd.read_csv('heart_2020_cleaned.csv', sep=',')\n",
    "df['HealthBurden'] = df['PhysicalHealth'] + df['MentalHealth']\n",
    "df['SleepEfficiency'] = df['SleepTime'].apply(lambda x: 1 if 7 <= x <= 9 else 0)\n",
    "df['RiskyLifestyle'] = ((df['Smoking'] == 'Yes') & \n",
    "                        (df['AlcoholDrinking'] == 'Yes') & \n",
    "                        (df['PhysicalHealth'] > 10)).astype(int)\n",
    "df[['HealthBurden', 'SleepEfficiency', 'RiskyLifestyle']].head()"
   ]
  },
  {
   "cell_type": "markdown",
   "id": "5fa047cc",
   "metadata": {},
   "source": [
    "----------"
   ]
  },
  {
   "cell_type": "markdown",
   "id": "373782e4",
   "metadata": {},
   "source": [
    "5.\tInsights & Conclusion:"
   ]
  },
  {
   "cell_type": "markdown",
   "id": "a02438ae",
   "metadata": {},
   "source": [
    "-----"
   ]
  },
  {
   "cell_type": "markdown",
   "id": "1627a541",
   "metadata": {},
   "source": [
    "o\tSummarize key insights derived from the EDA."
   ]
  },
  {
   "cell_type": "markdown",
   "id": "1aedea0f",
   "metadata": {},
   "source": [
    "1. Health and Lifestyle Factors:\n",
    "   - Features like BMI, PhysicalHealth, and MentalHealth showed a wide range of values. Several outliers were detected through z-score and boxplots.\n",
    "   - Many individuals reported very poor physical or mental health, and the SleepTime distribution suggested suboptimal sleep durations in certain cases.\n",
    "\n",
    "2. Correlation Insights:\n",
    "   - The correlation heatmap revealed that SleepTime has a weak correlation with other features, whereas HealthBurden (Physical + Mental Health) provides a more comprehensive indicator.\n",
    "   - HeartDisease was more prevalent in people with high PhysicalHealth values, especially those combined with risky behaviors (smoking, drinking).\n",
    "\n",
    "3. Feature Engineering:\n",
    "   - Transformations like log and square root normalization improved the interpretability of skewed features.\n",
    "   - New features like HealthBurden and RiskyLifestyle combined multiple indicators into single attributes, potentially useful for future modeling.\n",
    "   - SleepEfficiency is a simple but meaningful categorical feature based on recommended sleep guidelines."
   ]
  },
  {
   "cell_type": "markdown",
   "id": "d81ee354",
   "metadata": {},
   "source": [
    "o\tDiscuss any potential issues with the dataset and how they were handled."
   ]
  },
  {
   "cell_type": "markdown",
   "id": "503b5992",
   "metadata": {},
   "source": [
    "- Missing Values: Addressed using forward fill (ffill), which assumes previous values are valid and applicable.\n",
    "- Duplicates: Removed to prevent bias in summary statistics and training.\n",
    "- Outliers: Identified using Z-score method and handled by filtering out data points where z-score > 3 across numerical features.\n",
    "- Data Imbalance: Not explicitly addressed here, but should be considered before modeling (especially if HeartDisease classes are imbalanced)."
   ]
  },
  {
   "cell_type": "markdown",
   "id": "935009bc",
   "metadata": {},
   "source": [
    "o\tPropose possible next steps for data modeling."
   ]
  },
  {
   "cell_type": "markdown",
   "id": "4274a854",
   "metadata": {},
   "source": [
    "1. Data Splitting:\n",
    "   - Split the cleaned dataset into training and testing sets to prepare for modeling.\n",
    "\n",
    "2. Feature Selection:\n",
    "   - Evaluate importance of engineered features like HealthBurden and RiskyLifestyle using correlation or feature importance methods.\n",
    "\n",
    "3. Model Development:\n",
    "   - Try classification models like Logistic Regression, Random Forest, or XGBoost to predict HeartDisease.\n",
    "   - Use cross-validation for robust performance metrics.\n",
    "\n",
    "4. Performance Evaluation:\n",
    "   - Evaluate models using accuracy, precision, recall, F1-score, and ROC-AUC to ensure balanced performance."
   ]
  }
 ],
 "metadata": {
  "kernelspec": {
   "display_name": "Python 3",
   "language": "python",
   "name": "python3"
  },
  "language_info": {
   "codemirror_mode": {
    "name": "ipython",
    "version": 3
   },
   "file_extension": ".py",
   "mimetype": "text/x-python",
   "name": "python",
   "nbconvert_exporter": "python",
   "pygments_lexer": "ipython3",
   "version": "3.12.3"
  }
 },
 "nbformat": 4,
 "nbformat_minor": 5
}
