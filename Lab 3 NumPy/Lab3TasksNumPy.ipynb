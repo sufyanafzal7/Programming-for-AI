{
 "cells": [
  {
   "cell_type": "markdown",
   "metadata": {},
   "source": [
    "Name:    \"Sufyan Afzal\"\n",
    "Reg No:  \"FA23-BAI-061\"\n",
    "    Lab 3 Tasks"
   ]
  },
  {
   "cell_type": "markdown",
   "metadata": {},
   "source": [
    "Q.1 : Import the numpy package under the name np"
   ]
  },
  {
   "cell_type": "code",
   "execution_count": null,
   "metadata": {},
   "outputs": [],
   "source": [
    "import numpy as np"
   ]
  },
  {
   "cell_type": "markdown",
   "metadata": {},
   "source": [
    "Q.2 : Create a null vector of size 10"
   ]
  },
  {
   "cell_type": "code",
   "execution_count": 2,
   "metadata": {},
   "outputs": [
    {
     "name": "stdout",
     "output_type": "stream",
     "text": [
      "[0. 0. 0. 0. 0. 0. 0. 0. 0. 0.]\n"
     ]
    }
   ],
   "source": [
    "import numpy as np\n",
    "a = np.zeros(10)\n",
    "print(a)"
   ]
  },
  {
   "cell_type": "markdown",
   "metadata": {},
   "source": [
    "Q.3 : Create a null vector of size 10 but the fifth value which is 1"
   ]
  },
  {
   "cell_type": "code",
   "execution_count": 3,
   "metadata": {},
   "outputs": [
    {
     "name": "stdout",
     "output_type": "stream",
     "text": [
      "[0. 0. 0. 0. 1. 0. 0. 0. 0. 0.]\n"
     ]
    }
   ],
   "source": [
    "import numpy as np\n",
    "a = np.zeros(10)\n",
    "a[4] = 1\n",
    "print(a)"
   ]
  },
  {
   "cell_type": "markdown",
   "metadata": {},
   "source": [
    "Q.4 : Create a vector with values ranging from 10 to 49"
   ]
  },
  {
   "cell_type": "code",
   "execution_count": 4,
   "metadata": {},
   "outputs": [
    {
     "name": "stdout",
     "output_type": "stream",
     "text": [
      "[10 11 12 13 14 15 16 17 18 19 20 21 22 23 24 25 26 27 28 29 30 31 32 33\n",
      " 34 35 36 37 38 39 40 41 42 43 44 45 46 47 48]\n"
     ]
    }
   ],
   "source": [
    "import numpy as np\n",
    "a = np.arange(10,49)\n",
    "print(a)"
   ]
  },
  {
   "cell_type": "markdown",
   "metadata": {},
   "source": [
    "Q.5 : Create a 3x3 matrix with values ranging from 0 to 8"
   ]
  },
  {
   "cell_type": "code",
   "execution_count": 5,
   "metadata": {},
   "outputs": [
    {
     "name": "stdout",
     "output_type": "stream",
     "text": [
      "[0 1 2 3 4 5 6 7]\n"
     ]
    }
   ],
   "source": [
    "import numpy as np\n",
    "a = np.full((3,3),None)\n",
    "a = np.arange(0,8)\n",
    "print(a)"
   ]
  },
  {
   "cell_type": "markdown",
   "metadata": {},
   "source": [
    "Q.6 : Create a 10x10 array with random values and find the minimum and maximum values"
   ]
  },
  {
   "cell_type": "code",
   "execution_count": 6,
   "metadata": {},
   "outputs": [
    {
     "name": "stdout",
     "output_type": "stream",
     "text": [
      "Araay :  [[0.6457422  0.03824639 0.63386685 0.0915384  0.40204297 0.30938811\n",
      "  0.68712806 0.00534683 0.36171019 0.06330089]\n",
      " [0.13567139 0.59890618 0.65844456 0.84816862 0.10972924 0.72681501\n",
      "  0.01315818 0.57796597 0.26802747 0.03401042]\n",
      " [0.90962477 0.48080986 0.59859371 0.3280861  0.66614481 0.38055847\n",
      "  0.91842318 0.67548153 0.97912608 0.15721387]\n",
      " [0.83899944 0.36978901 0.15483451 0.18270821 0.13968036 0.71943116\n",
      "  0.89820166 0.24821636 0.95413927 0.34370058]\n",
      " [0.47714921 0.9561346  0.43392111 0.92208496 0.39695146 0.13412183\n",
      "  0.80232466 0.74237247 0.46642131 0.7079835 ]\n",
      " [0.63043325 0.49261946 0.95620474 0.86746718 0.8890576  0.07813389\n",
      "  0.33577331 0.31098294 0.86604652 0.56647426]\n",
      " [0.25055633 0.40803878 0.85395468 0.60120256 0.29324016 0.87268078\n",
      "  0.38039122 0.21443782 0.64857184 0.95871783]\n",
      " [0.87933605 0.78237135 0.29954261 0.83961502 0.23024861 0.51165727\n",
      "  0.80431942 0.97809463 0.43097339 0.05093409]\n",
      " [0.88041233 0.16179459 0.07028926 0.85814224 0.89619837 0.11103945\n",
      "  0.48652463 0.20857483 0.03662631 0.52256376]\n",
      " [0.73522079 0.56930927 0.98668918 0.81391058 0.4166624  0.77800651\n",
      "  0.03235416 0.33364352 0.68880161 0.25231187]]\n",
      "Max value :  0.986689180198497\n",
      "Min value : 0.005346829649074625\n"
     ]
    }
   ],
   "source": [
    "import numpy as np\n",
    "a = np.random.random((10,10))\n",
    "print(\"Araay : \",a)\n",
    "print(\"Max value : \",np.max(a))\n",
    "print(\"Min value :\",np.min(a))"
   ]
  },
  {
   "cell_type": "markdown",
   "metadata": {},
   "source": [
    "Q.7 : Create a 5x5 matrix with row values ranging from 0 to 4"
   ]
  },
  {
   "cell_type": "code",
   "execution_count": 7,
   "metadata": {},
   "outputs": [
    {
     "name": "stdout",
     "output_type": "stream",
     "text": [
      "[[0 1 2 3 4]\n",
      " [0 1 2 3 4]\n",
      " [0 1 2 3 4]\n",
      " [0 1 2 3 4]\n",
      " [0 1 2 3 4]]\n"
     ]
    }
   ],
   "source": [
    "import numpy as np\n",
    "a = np.tile(np.arange(5),(5,1))\n",
    "print(a)"
   ]
  },
  {
   "cell_type": "markdown",
   "metadata": {},
   "source": [
    "Q.8 : Create a vector of size 10 with values ranging from 0 to 1, both excluded "
   ]
  },
  {
   "cell_type": "code",
   "execution_count": 8,
   "metadata": {},
   "outputs": [
    {
     "name": "stdout",
     "output_type": "stream",
     "text": [
      "[0.1        0.18888889 0.27777778 0.36666667 0.45555556 0.54444444\n",
      " 0.63333333 0.72222222 0.81111111 0.9       ]\n"
     ]
    }
   ],
   "source": [
    "import numpy as np\n",
    "a = np.linspace(0.1,0.9,10)\n",
    "print(a)"
   ]
  },
  {
   "cell_type": "markdown",
   "metadata": {},
   "source": [
    "Q.9 : Create a 2d array with 1 on the border and 0 inside"
   ]
  },
  {
   "cell_type": "code",
   "execution_count": 9,
   "metadata": {},
   "outputs": [
    {
     "name": "stdout",
     "output_type": "stream",
     "text": [
      "[[1. 1. 1. 1. 1.]\n",
      " [1. 0. 0. 0. 1.]\n",
      " [1. 0. 0. 0. 1.]\n",
      " [1. 0. 0. 0. 1.]\n",
      " [1. 1. 1. 1. 1.]]\n"
     ]
    }
   ],
   "source": [
    "import numpy as np\n",
    "m , n = 5 , 5\n",
    "a = np.ones((m,n))\n",
    "a[1:-1 , 1:-1] = 0\n",
    "print(a)"
   ]
  },
  {
   "cell_type": "markdown",
   "metadata": {},
   "source": [
    "Q.10 : Create a random vector of size 10 and sort it"
   ]
  },
  {
   "cell_type": "code",
   "execution_count": 10,
   "metadata": {},
   "outputs": [
    {
     "name": "stdout",
     "output_type": "stream",
     "text": [
      "Before sorting :  [0.70380173 0.33389788 0.154884   0.06757122 0.3683259  0.90095832\n",
      " 0.5211829  0.29579177 0.85450516 0.70555021]\n",
      "\n",
      "After Sorting :  [0.06757122 0.154884   0.29579177 0.33389788 0.3683259  0.5211829\n",
      " 0.70380173 0.70555021 0.85450516 0.90095832]\n"
     ]
    }
   ],
   "source": [
    "import numpy as np\n",
    "a = np.random.random(10)\n",
    "print(\"Before sorting : \",a)\n",
    "print()\n",
    "print(\"After Sorting : \",np.sort(a))"
   ]
  },
  {
   "cell_type": "markdown",
   "metadata": {},
   "source": [
    "Q.11 : Subtract the mean of each row of an array"
   ]
  },
  {
   "cell_type": "code",
   "execution_count": 2,
   "metadata": {},
   "outputs": [
    {
     "name": "stdout",
     "output_type": "stream",
     "text": [
      "[[1 2 3]\n",
      " [4 5 6]\n",
      " [7 8 9]]\n",
      "Mean of a matrix :  5.0\n",
      "\n",
      "The coloumn mean :  [[4. 5. 6.]]\n",
      "The Row mean : \n",
      " [[2.]\n",
      " [5.]\n",
      " [8.]]\n",
      "\n",
      "The result matrix after subtraction : \n",
      " [[-1.  0.  1.]\n",
      " [-1.  0.  1.]\n",
      " [-1.  0.  1.]]\n"
     ]
    }
   ],
   "source": [
    "import numpy as np\n",
    "a = np.array([[1,2,3],[4,5,6],[7,8,9]])\n",
    "print(a)\n",
    "wholeMean = np.mean(a)\n",
    "print(\"Mean of a matrix : \",wholeMean)\n",
    "coloumnMean = np.mean(a, axis=0, keepdims=True)\n",
    "print(\"\\nThe coloumn mean : \",coloumnMean)\n",
    "rowMean = np.mean(a,axis =1, keepdims=True)\n",
    "print(\"The Row mean : \\n\",rowMean)\n",
    "resultMatrix = np.subtract(a,rowMean)\n",
    "print(\"\\nThe result matrix after subtraction : \\n\",resultMatrix)"
   ]
  },
  {
   "cell_type": "markdown",
   "metadata": {},
   "source": [
    "Q.12 : create a 2D array, swap two rows of an array"
   ]
  },
  {
   "cell_type": "code",
   "execution_count": 3,
   "metadata": {},
   "outputs": [
    {
     "name": "stdout",
     "output_type": "stream",
     "text": [
      "Before swapping : \n",
      " [[1 2 3]\n",
      " [4 5 6]\n",
      " [7 8 9]]\n",
      "\n",
      "After swapping : \n",
      " [[7 8 9]\n",
      " [4 5 6]\n",
      " [1 2 3]]\n"
     ]
    }
   ],
   "source": [
    "import numpy as np\n",
    "a = np.array([[1,2,3],[4,5,6],[7,8,9]])\n",
    "print(\"Before swapping : \\n\",a)\n",
    "a[[0,2]] = a[[2,0]]\n",
    "print(\"\\nAfter swapping : \\n\",a)"
   ]
  },
  {
   "cell_type": "markdown",
   "metadata": {},
   "source": [
    "Q.13 : Find the number of occurrences of a sequence in an array"
   ]
  },
  {
   "cell_type": "code",
   "execution_count": 4,
   "metadata": {},
   "outputs": [
    {
     "name": "stdout",
     "output_type": "stream",
     "text": [
      "Number of Occurences in a sequense(Row) :  2\n",
      "Number of Occurences in a sequense(Coloumn) :  0\n"
     ]
    }
   ],
   "source": [
    "import numpy as np\n",
    "a = np.array([[1,2,3],[4,5,6],[1,2,3]])\n",
    "sequence = [1,2,3]\n",
    "occurencesRow = np.sum((a==sequence).all(axis=1))\n",
    "print(\"Number of Occurences in a sequense(Row) : \",occurencesRow)\n",
    "occurencesColoumn = np.sum((a==sequence).all(axis=0))\n",
    "print(\"Number of Occurences in a sequense(Coloumn) : \",occurencesColoumn)"
   ]
  },
  {
   "cell_type": "markdown",
   "metadata": {},
   "source": [
    "Q.14 : Combining a one and a two-dimensional Array"
   ]
  },
  {
   "cell_type": "code",
   "execution_count": 5,
   "metadata": {},
   "outputs": [
    {
     "name": "stdout",
     "output_type": "stream",
     "text": [
      "Matrix a : \n",
      " [[1 2 3]\n",
      " [4 5 6]\n",
      " [7 8 9]]\n",
      "\n",
      "Matrix B : \n",
      " [[3 2 1]]\n",
      "\n",
      "Vertical Stack : \n",
      " [[1 2 3]\n",
      " [4 5 6]\n",
      " [7 8 9]\n",
      " [3 2 1]]\n",
      "\n",
      "Horizontal Stack : \n",
      " [[1 2 3 3]\n",
      " [4 5 6 2]\n",
      " [7 8 9 1]]\n"
     ]
    }
   ],
   "source": [
    "import numpy as np\n",
    "a = np.array([[1,2,3],[4,5,6],[7,8,9]])\n",
    "print(\"Matrix a : \\n\",a)\n",
    "b = np.array([[3,2,1]])\n",
    "print(\"\\nMatrix B : \\n\",b)\n",
    "print(\"\\nVertical Stack : \\n\",np.vstack((a,b)))\n",
    "b = b.reshape(-1,1)\n",
    "print(\"\\nHorizontal Stack : \\n\",np.hstack((a,b)))"
   ]
  },
  {
   "cell_type": "markdown",
   "metadata": {},
   "source": [
    "Q.15 :  Flatten a 2d array into 1d array"
   ]
  },
  {
   "cell_type": "code",
   "execution_count": 6,
   "metadata": {},
   "outputs": [
    {
     "name": "stdout",
     "output_type": "stream",
     "text": [
      "Matrix a : \n",
      " [[1 2 3]\n",
      " [4 5 6]\n",
      " [7 8 9]]\n",
      "\n",
      "Flatting an array using flatten() : \n",
      " [1 2 3 4 5 6 7 8 9]\n",
      "\n",
      "Flatting an array using ravel() : \n",
      " [1 2 3 4 5 6 7 8 9]\n"
     ]
    }
   ],
   "source": [
    "import numpy as np\n",
    "a = np.array([[1,2,3],[4,5,6],[7,8,9]])\n",
    "print(\"Matrix a : \\n\",a)\n",
    "print(\"\\nFlatting an array using flatten() : \\n\",a.flatten())\n",
    "print(\"\\nFlatting an array using ravel() : \\n\",a.ravel())"
   ]
  },
  {
   "cell_type": "markdown",
   "metadata": {},
   "source": [
    "Q.16 : How can one determine the occurrence frequency of distinct values within an array"
   ]
  },
  {
   "cell_type": "code",
   "execution_count": 7,
   "metadata": {},
   "outputs": [
    {
     "name": "stdout",
     "output_type": "stream",
     "text": [
      "Unique occurences in \"a\" :  [1 2 3 4]\n",
      "Number of unique counts vlaues in \"a\" :  [3 2 3 1]\n",
      "\n",
      "Unique occurences in \"b\" :  [1 2 3 4 5 6 7]\n",
      "Number of unique counts vlaues in \"b\" :  [1 1 2 1 3 1 6]\n"
     ]
    }
   ],
   "source": [
    "import numpy as np\n",
    "a = np.array([[1,2,3],[3,2,1],[4,1,3]])\n",
    "b = np.array([[1,2,3,3,4,5,5,5,6,7,7,7,7,7,7]])\n",
    "aUnique, aCounts = np.unique(a, return_counts = True)\n",
    "print(\"Unique occurences in \\\"a\\\" : \",aUnique)\n",
    "print(\"Number of unique counts vlaues in \\\"a\\\" : \",aCounts)\n",
    "bUnique, bCounts = np.unique(b, return_counts= True)\n",
    "print(\"\\nUnique occurences in \\\"b\\\" : \",bUnique)\n",
    "print(\"Number of unique counts vlaues in \\\"b\\\" : \",bCounts)"
   ]
  },
  {
   "cell_type": "markdown",
   "metadata": {},
   "source": [
    "Q.17 : Compute the determinant of a matrix"
   ]
  },
  {
   "cell_type": "code",
   "execution_count": 9,
   "metadata": {},
   "outputs": [
    {
     "name": "stdout",
     "output_type": "stream",
     "text": [
      "Determinant of Matrix :  -19.999999999999996\n"
     ]
    }
   ],
   "source": [
    "import numpy as np\n",
    "a = np.array([[1,2,3],[3,2,1],[4,1,3]])\n",
    "print(\"Determinant of Matrix : \",np.linalg.det(a))"
   ]
  },
  {
   "cell_type": "markdown",
   "metadata": {},
   "source": [
    "Q.18 : Ways to add row/columns in an array"
   ]
  },
  {
   "cell_type": "code",
   "execution_count": 10,
   "metadata": {},
   "outputs": [
    {
     "name": "stdout",
     "output_type": "stream",
     "text": [
      "[[1 2 3]\n",
      " [4 5 6]\n",
      " [7 8 9]]\n",
      "\n",
      "Sum along coloumns :  [12 15 18]\n",
      "\n",
      "\n",
      "[[9 8 7]\n",
      " [6 5 4]\n",
      " [3 2 1]]\n",
      "\n",
      "Sum along rows :  [24 15  6]\n"
     ]
    }
   ],
   "source": [
    "import numpy as np\n",
    "a = np.array([[1,2,3],[4,5,6],[7,8,9]])\n",
    "b = np.array([[9,8,7],[6,5,4],[3,2,1]])\n",
    "print(a)\n",
    "print(\"\\nSum along coloumns : \",np.sum(a,axis=0))\n",
    "print()\n",
    "print()\n",
    "print(b)\n",
    "print(\"\\nSum along rows : \",np.sum(b,axis=1))"
   ]
  },
  {
   "cell_type": "markdown",
   "metadata": {},
   "source": [
    "Q.19 : Convert a matrix into a list"
   ]
  },
  {
   "cell_type": "code",
   "execution_count": 11,
   "metadata": {},
   "outputs": [
    {
     "name": "stdout",
     "output_type": "stream",
     "text": [
      "Matrix : \n",
      " [[1 2 3]\n",
      " [4 5 6]\n",
      " [7 8 9]]\n",
      "\n",
      " Array to List :  [[1, 2, 3], [4, 5, 6], [7, 8, 9]]\n",
      "\n",
      " Array to List (Flatten):  [1, 2, 3, 4, 5, 6, 7, 8, 9]\n"
     ]
    }
   ],
   "source": [
    "import numpy as np\n",
    "a = np.array([[1,2,3],[4,5,6],[7,8,9]])\n",
    "print(\"Matrix : \\n\",a)\n",
    "print(\"\\n Array to List : \",a.tolist())\n",
    "print(\"\\n Array to List (Flatten): \",a.flatten().tolist())"
   ]
  },
  {
   "cell_type": "markdown",
   "metadata": {},
   "source": [
    "Q.20 : Calculate inner, outer, and cross products of matrices and vectors"
   ]
  },
  {
   "cell_type": "code",
   "execution_count": 12,
   "metadata": {},
   "outputs": [
    {
     "name": "stdout",
     "output_type": "stream",
     "text": [
      "\n",
      " 2 Dimentinal: \n",
      "\n",
      "Dot Product(2D): \n",
      " [[ 30  24  18]\n",
      " [ 84  69  54]\n",
      " [138 114  90]]\n",
      "\n",
      "Inner Product(2D): \n",
      " [[ 46  28  10]\n",
      " [118  73  28]\n",
      " [190 118  46]]\n",
      "\n",
      "Outer Product(2D): \n",
      " [[ 9  8  7  6  5  4  3  2  1]\n",
      " [18 16 14 12 10  8  6  4  2]\n",
      " [27 24 21 18 15 12  9  6  3]\n",
      " [36 32 28 24 20 16 12  8  4]\n",
      " [45 40 35 30 25 20 15 10  5]\n",
      " [54 48 42 36 30 24 18 12  6]\n",
      " [63 56 49 42 35 28 21 14  7]\n",
      " [72 64 56 48 40 32 24 16  8]\n",
      " [81 72 63 54 45 36 27 18  9]]\n",
      "\n",
      "Cross Product(2D): \n",
      " [[-10  20 -10]\n",
      " [-10  20 -10]\n",
      " [-10  20 -10]]\n",
      "\n",
      "\n",
      "\n",
      "----------------------------------------\n",
      "########################################\n",
      "----------------------------------------\n",
      "\n",
      "\n",
      "\n",
      " 1 Dimentinal: \n",
      "\n",
      "\n",
      "Dot Product(1D): \n",
      " 10\n",
      "\n",
      "Inner Product(1D): \n",
      " 10\n",
      "\n",
      "Outer Product(1D): \n",
      " [[3 2 1]\n",
      " [6 4 2]\n",
      " [9 6 3]]\n",
      "\n",
      "Cross Product(1D): \n",
      " [-4  8 -4]\n"
     ]
    }
   ],
   "source": [
    "import numpy as np\n",
    "a = np.array([[1,2,3],[4,5,6],[7,8,9]])\n",
    "b = np.array([[9,8,7],[6,5,4],[3,2,1]])\n",
    "print(\"\\n 2 Dimentinal: \\n\")\n",
    "print(\"Dot Product(2D): \\n\", a.dot(b))\n",
    "print(\"\\nInner Product(2D): \\n\",np.inner(a,b))\n",
    "print(\"\\nOuter Product(2D): \\n\",np.outer(a,b))\n",
    "print(\"\\nCross Product(2D): \\n\",np.cross(a,b))\n",
    "c = np.array([1,2,3])\n",
    "d = np.array([3,2,1])\n",
    "print(\"\\n\\n\")\n",
    "print(\"-\"*40)\n",
    "print(\"#\"*40)\n",
    "print(\"-\"*40)\n",
    "print(\"\\n\\n\\n 1 Dimentinal: \\n\")\n",
    "print(\"\\nDot Product(1D): \\n\", np.dot(c,d))\n",
    "print(\"\\nInner Product(1D): \\n\",np.inner(c,d))\n",
    "print(\"\\nOuter Product(1D): \\n\",np.outer(c,d))\n",
    "print(\"\\nCross Product(1D): \\n\",np.cross(c,d))"
   ]
  }
 ],
 "metadata": {
  "kernelspec": {
   "display_name": "Python 3",
   "language": "python",
   "name": "python3"
  },
  "language_info": {
   "codemirror_mode": {
    "name": "ipython",
    "version": 3
   },
   "file_extension": ".py",
   "mimetype": "text/x-python",
   "name": "python",
   "nbconvert_exporter": "python",
   "pygments_lexer": "ipython3",
   "version": "3.12.3"
  }
 },
 "nbformat": 4,
 "nbformat_minor": 2
}
