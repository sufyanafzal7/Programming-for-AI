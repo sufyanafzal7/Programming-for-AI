{
  "cells": [
    {
      "cell_type": "markdown",
      "id": "0REYTsNQxFsX",
      "metadata": {
        "id": "0REYTsNQxFsX"
      },
      "source": [
        "Numpy\n",
        "-----"
      ]
    },
    {
      "cell_type": "markdown",
      "id": "luCA_suSxFsY",
      "metadata": {
        "id": "luCA_suSxFsY"
      },
      "source": [
        "Numpy is the core library for scientific computing in Python. It\n",
        "provides a high-performance multidimensional array object, and tools for\n",
        "working with these arrays."
      ]
    },
    {
      "cell_type": "markdown",
      "id": "wlr7N9IGxFsc",
      "metadata": {
        "id": "wlr7N9IGxFsc"
      },
      "source": [
        "To use Numpy, we first need to import the `numpy` package. By\n",
        "convention, we import it using the alias `np`. Then, when we want to use\n",
        "modules or functions in this library, we preface them with `np.`"
      ]
    },
    {
      "cell_type": "code",
      "execution_count": 1,
      "id": "w_Lgd_QkxFsd",
      "metadata": {
        "id": "w_Lgd_QkxFsd"
      },
      "outputs": [],
      "source": [
        "import numpy as np"
      ]
    },
    {
      "cell_type": "markdown",
      "id": "7DzyLfUTxFse",
      "metadata": {
        "id": "7DzyLfUTxFse"
      },
      "source": [
        "### Arrays and array construction"
      ]
    },
    {
      "cell_type": "markdown",
      "id": "mn-YuRdJxFse",
      "metadata": {
        "id": "mn-YuRdJxFse"
      },
      "source": [
        "A numpy array is a grid of values, all of the same type, and is indexed\n",
        "by a tuple of nonnegative integers. The number of dimensions is the rank\n",
        "of the array; the shape of an array is a tuple of integers giving the\n",
        "size of the array along each dimension."
      ]
    },
    {
      "cell_type": "markdown",
      "id": "5q8j03aixFsf",
      "metadata": {
        "id": "5q8j03aixFsf"
      },
      "source": [
        "We can create a `numpy` array by passing a Python list to `np.array()`."
      ]
    },
    {
      "cell_type": "code",
      "execution_count": 2,
      "id": "g9WUdVSqxFtF",
      "metadata": {
        "colab": {
          "base_uri": "https://localhost:8080/"
        },
        "id": "g9WUdVSqxFtF",
        "outputId": "9faa10d8-6cc0-4482-da2e-f0a0932230bc"
      },
      "outputs": [
        {
          "data": {
            "text/plain": [
              "array([1, 2, 3])"
            ]
          },
          "execution_count": 2,
          "metadata": {},
          "output_type": "execute_result"
        }
      ],
      "source": [
        "a = np.array([1, 2, 3])  # Create a rank 1 array\n",
        "a"
      ]
    },
    {
      "cell_type": "markdown",
      "id": "Rw2troL7xFtG",
      "metadata": {
        "id": "Rw2troL7xFtG"
      },
      "source": [
        "This creates the array we can see on the right here:\n",
        "\n",
        "![](http://jalammar.github.io/images/numpy/create-numpy-array-1.png)"
      ]
    },
    {
      "cell_type": "code",
      "execution_count": 3,
      "id": "s8s4ZTMmxFtG",
      "metadata": {
        "colab": {
          "base_uri": "https://localhost:8080/"
        },
        "id": "s8s4ZTMmxFtG",
        "outputId": "e8b5fd30-b536-4bbf-9ae5-db4d732309a0"
      },
      "outputs": [
        {
          "name": "stdout",
          "output_type": "stream",
          "text": [
            "<class 'numpy.ndarray'> (3,) 1 2 3\n",
            "[5 2 3]\n"
          ]
        }
      ],
      "source": [
        "print(type(a), a.shape, a[0], a[1], a[2])\n",
        "a[0] = 5                 # Change an element of the array\n",
        "print(a)                  "
      ]
    },
    {
      "cell_type": "markdown",
      "id": "0G49WsSlxFtH",
      "metadata": {
        "id": "0G49WsSlxFtH"
      },
      "source": [
        "To create a `numpy` array with more dimensions, we can pass nested\n",
        "lists, like this:\n",
        "\n",
        "![](http://jalammar.github.io/images/numpy/numpy-array-create-2d.png)\n",
        "\n",
        "![](http://jalammar.github.io/images/numpy/numpy-3d-array.png)"
      ]
    },
    {
      "cell_type": "code",
      "execution_count": 4,
      "id": "NAQsGrflxFtS",
      "metadata": {
        "colab": {
          "base_uri": "https://localhost:8080/"
        },
        "id": "NAQsGrflxFtS",
        "outputId": "d71a1c91-5b8a-4dc0-cf5d-e63c40031814"
      },
      "outputs": [
        {
          "name": "stdout",
          "output_type": "stream",
          "text": [
            "[[1 2]\n",
            " [3 4]]\n"
          ]
        }
      ],
      "source": [
        "b = np.array([[1,2],[3,4]])   # Create a rank 2 array\n",
        "print(b)"
      ]
    },
    {
      "cell_type": "code",
      "execution_count": 5,
      "id": "h-uVkM4ZxFtS",
      "metadata": {
        "colab": {
          "base_uri": "https://localhost:8080/"
        },
        "id": "h-uVkM4ZxFtS",
        "outputId": "d8d6833f-6449-4e1c-8af7-2a2d49bcb22b"
      },
      "outputs": [
        {
          "name": "stdout",
          "output_type": "stream",
          "text": [
            "(2, 2)\n"
          ]
        }
      ],
      "source": [
        "print(b.shape)"
      ]
    },
    {
      "cell_type": "markdown",
      "id": "NKXOn7CMxFtT",
      "metadata": {
        "id": "NKXOn7CMxFtT"
      },
      "source": [
        "There are often cases when we want numpy to initialize the values of the\n",
        "array for us. numpy provides methods like `ones()`, `zeros()`, and\n",
        "`random.random()` for these cases. We just pass them the number of\n",
        "elements we want it to generate:\n",
        "\n",
        "![](http://jalammar.github.io/images/numpy/create-numpy-array-ones-zeros-random.png)"
      ]
    },
    {
      "cell_type": "markdown",
      "id": "2dRerOd8xFtV",
      "metadata": {
        "id": "2dRerOd8xFtV"
      },
      "source": [
        "We can also use these methods to produce multi-dimensional arrays, as\n",
        "long as we pass them a tuple describing the dimensions of the matrix we\n",
        "want to create:\n",
        "\n",
        "![](http://jalammar.github.io/images/numpy/numpy-matrix-ones-zeros-random.png)\n",
        "\n",
        "![](http://jalammar.github.io/images/numpy/numpy-3d-array-creation.png)"
      ]
    },
    {
      "cell_type": "markdown",
      "id": "YIeP_rXvxFtW",
      "metadata": {
        "id": "YIeP_rXvxFtW"
      },
      "source": [
        "Sometimes, we need an array of a specific shape with “placeholder”\n",
        "values that we plan to fill in with the result of a computation. The\n",
        "`zeros` or `ones` functions are handy for this:"
      ]
    },
    {
      "cell_type": "code",
      "execution_count": 6,
      "id": "yt9cSMu9xFtW",
      "metadata": {
        "colab": {
          "base_uri": "https://localhost:8080/"
        },
        "id": "yt9cSMu9xFtW",
        "outputId": "7f13048a-4f79-41f3-97ed-0b13b91576fa"
      },
      "outputs": [
        {
          "name": "stdout",
          "output_type": "stream",
          "text": [
            "[[0. 0.]\n",
            " [0. 0.]]\n"
          ]
        }
      ],
      "source": [
        "a = np.zeros((2,2))  # Create an array of all zeros\n",
        "print(a)"
      ]
    },
    {
      "cell_type": "code",
      "execution_count": 7,
      "id": "rnWYZnGdxFtW",
      "metadata": {
        "colab": {
          "base_uri": "https://localhost:8080/"
        },
        "id": "rnWYZnGdxFtW",
        "outputId": "01a1230b-2656-4449-a4ac-dcad5db4bc9f"
      },
      "outputs": [
        {
          "name": "stdout",
          "output_type": "stream",
          "text": [
            "[[1. 1.]]\n"
          ]
        }
      ],
      "source": [
        "b = np.ones((1,2))   # Create an array of all ones\n",
        "print(b)"
      ]
    },
    {
      "cell_type": "code",
      "execution_count": 8,
      "id": "Flb4Gy3HxFtX",
      "metadata": {
        "colab": {
          "base_uri": "https://localhost:8080/"
        },
        "id": "Flb4Gy3HxFtX",
        "outputId": "af270a19-09e1-4a79-caaf-779c3770667e"
      },
      "outputs": [
        {
          "name": "stdout",
          "output_type": "stream",
          "text": [
            "[[7 7]\n",
            " [7 7]]\n"
          ]
        }
      ],
      "source": [
        "c = np.full((2,2), 7) # Create a constant array\n",
        "print(c)"
      ]
    },
    {
      "cell_type": "code",
      "execution_count": 9,
      "id": "dyc1Gr1BxFtY",
      "metadata": {
        "colab": {
          "base_uri": "https://localhost:8080/"
        },
        "id": "dyc1Gr1BxFtY",
        "outputId": "f444c29a-aa21-4987-819b-b2406a29e81d"
      },
      "outputs": [
        {
          "name": "stdout",
          "output_type": "stream",
          "text": [
            "[[1. 0.]\n",
            " [0. 1.]]\n"
          ]
        }
      ],
      "source": [
        "d = np.eye(2)        # Create a 2x2 identity matrix\n",
        "print(d)"
      ]
    },
    {
      "cell_type": "code",
      "execution_count": 10,
      "id": "-T3YZxpExFtZ",
      "metadata": {
        "colab": {
          "base_uri": "https://localhost:8080/"
        },
        "id": "-T3YZxpExFtZ",
        "outputId": "df221a0c-395c-43dd-d296-e51e4f113b6c"
      },
      "outputs": [
        {
          "name": "stdout",
          "output_type": "stream",
          "text": [
            "[[0.80275712 0.65149981]\n",
            " [0.32200107 0.65800372]]\n"
          ]
        }
      ],
      "source": [
        "e = np.random.random((2,2)) # Create an array filled with random values\n",
        "print(e)"
      ]
    },
    {
      "cell_type": "markdown",
      "id": "ZGxZ1daPxFta",
      "metadata": {
        "id": "ZGxZ1daPxFta"
      },
      "source": [
        "Lastly, I want to mention two very useful functions for creating\n",
        "sequences of numbers within a specified range, namely, arange and\n",
        "linspace. NumPy’s arange function follows the same syntax as Python’s\n",
        "range objects: If two arguments are provided, the first argument\n",
        "represents the start value and the second value defines the stop value\n",
        "of a half-open interval:"
      ]
    },
    {
      "cell_type": "markdown",
      "id": "QI-XhOmWxFta",
      "metadata": {
        "id": "QI-XhOmWxFta"
      },
      "source": [
        "Numpy also has two useful functions for creating sequences of numbers:\n",
        "`arange` and `linspace`.\n",
        "\n",
        "The `arange` function accepts three arguments, which define the start\n",
        "value, stop value of a half-open interval, and step size. (The default\n",
        "step size, if not explicitly specified, is 1; the default start value,\n",
        "if not explicitly specified, is 0.)\n",
        "\n",
        "The `linspace` function is similar, but we can specify the number of\n",
        "values instead of the step size, and it will create a sequence of evenly\n",
        "spaced values."
      ]
    },
    {
      "cell_type": "code",
      "execution_count": 11,
      "id": "Js6QVpeVxFtb",
      "metadata": {
        "colab": {
          "base_uri": "https://localhost:8080/"
        },
        "id": "Js6QVpeVxFtb",
        "outputId": "46a6b3cf-2014-480d-ea32-c4e2eb8eba4c"
      },
      "outputs": [
        {
          "name": "stdout",
          "output_type": "stream",
          "text": [
            "[10 15 20 25 30 35 40 45]\n"
          ]
        }
      ],
      "source": [
        "f = np.arange(10,50,5)   # Create an array of values starting at 10 in increments of 5\n",
        "print(f)"
      ]
    },
    {
      "cell_type": "markdown",
      "id": "h3V0JpytxFtc",
      "metadata": {
        "id": "h3V0JpytxFtc"
      },
      "source": [
        "Note this ends on 45, not 50 (does not include the top end of the\n",
        "interval)."
      ]
    },
    {
      "cell_type": "code",
      "execution_count": 12,
      "id": "JxsBQrfhxFtd",
      "metadata": {
        "colab": {
          "base_uri": "https://localhost:8080/"
        },
        "id": "JxsBQrfhxFtd",
        "outputId": "5784b5e5-cefd-4696-e0b5-c91c8d41a32c"
      },
      "outputs": [
        {
          "name": "stdout",
          "output_type": "stream",
          "text": [
            "[0.   0.25 0.5  0.75 1.  ]\n"
          ]
        }
      ],
      "source": [
        "g = np.linspace(0., 1., num=5)\n",
        "print(g)"
      ]
    },
    {
      "cell_type": "markdown",
      "id": "mSrpdA9YxFte",
      "metadata": {
        "id": "mSrpdA9YxFte"
      },
      "source": [
        "Sometimes, we may want to construct an array from existing arrays by\n",
        "“stacking” the existing arrays, either vertically or horizontally. We\n",
        "can use `vstack()` (or `row_stack`) and `hstack()` (or `column_stack`),\n",
        "respectively."
      ]
    },
    {
      "cell_type": "code",
      "execution_count": 13,
      "id": "83v3I8p6xFtf",
      "metadata": {
        "colab": {
          "base_uri": "https://localhost:8080/"
        },
        "id": "83v3I8p6xFtf",
        "outputId": "0c83e27b-c294-424f-be93-469c83022c06"
      },
      "outputs": [
        {
          "data": {
            "text/plain": [
              "array([[1, 2, 3],\n",
              "       [4, 5, 6]])"
            ]
          },
          "execution_count": 13,
          "metadata": {},
          "output_type": "execute_result"
        }
      ],
      "source": [
        "a = np.array([1, 2, 3])\n",
        "b = np.array([4, 5, 6])\n",
        "np.vstack((a,b))"
      ]
    },
    {
      "cell_type": "code",
      "execution_count": 14,
      "id": "6dLgDa7wxFtg",
      "metadata": {
        "colab": {
          "base_uri": "https://localhost:8080/"
        },
        "id": "6dLgDa7wxFtg",
        "outputId": "daa87138-b11a-4625-bc48-82f2696908d8"
      },
      "outputs": [
        {
          "data": {
            "text/plain": [
              "array([1, 2, 3, 4, 5, 6])"
            ]
          },
          "execution_count": 14,
          "metadata": {},
          "output_type": "execute_result"
        }
      ],
      "source": [
        "a = np.array([1, 2, 3])\n",
        "b = np.array([4, 5, 6])\n",
        "np.hstack((a,b))"
      ]
    },
    {
      "cell_type": "markdown",
      "id": "_8JJR6WAxFth",
      "metadata": {
        "id": "_8JJR6WAxFth"
      },
      "source": [
        "### Array indexing"
      ]
    },
    {
      "cell_type": "markdown",
      "id": "HC0uOX3txFti",
      "metadata": {
        "id": "HC0uOX3txFti"
      },
      "source": [
        "Numpy offers several ways to index into arrays."
      ]
    },
    {
      "cell_type": "markdown",
      "id": "Z9r0vQUnxFtn",
      "metadata": {
        "id": "Z9r0vQUnxFtn"
      },
      "source": [
        "We can index and slice numpy arrays in all the ways we can slice Python\n",
        "lists:\n",
        "\n",
        "![](http://jalammar.github.io/images/numpy/numpy-array-slice.png)\n",
        "\n",
        "And you can index and slice numpy arrays in multiple dimensions. If\n",
        "slicing an array with more than one dimension, you should specify a\n",
        "slice for each dimension:\n",
        "\n",
        "![](http://jalammar.github.io/images/numpy/numpy-matrix-indexing.png)"
      ]
    },
    {
      "cell_type": "code",
      "execution_count": 15,
      "id": "kLLlL_sQxFto",
      "metadata": {
        "colab": {
          "base_uri": "https://localhost:8080/"
        },
        "id": "kLLlL_sQxFto",
        "outputId": "79cafd3d-9cde-4a45-dfca-18a1306b7860"
      },
      "outputs": [
        {
          "name": "stdout",
          "output_type": "stream",
          "text": [
            "[[2 3]\n",
            " [6 7]]\n"
          ]
        }
      ],
      "source": [
        "# Create the following rank 2 array with shape (3, 4)\n",
        "# [[ 1  2  3  4]\n",
        "#  [ 5  6  7  8]\n",
        "#  [ 9 10 11 12]]\n",
        "a = np.array([[1,2,3,4], [5,6,7,8], [9,10,11,12]])\n",
        "\n",
        "# Use slicing to pull out the subarray consisting of the first 2 rows\n",
        "# and columns 1 and 2; b is the following array of shape (2, 2):\n",
        "# [[2 3]\n",
        "#  [6 7]]\n",
        "b = a[:2, 1:3]\n",
        "print(b)"
      ]
    },
    {
      "cell_type": "markdown",
      "id": "FUFnZ5cTxFtp",
      "metadata": {
        "id": "FUFnZ5cTxFtp"
      },
      "source": [
        "A slice of an array is a view into the same data, so modifying it will\n",
        "modify the original array."
      ]
    },
    {
      "cell_type": "code",
      "execution_count": 16,
      "id": "UztTtdo0xFtq",
      "metadata": {
        "colab": {
          "base_uri": "https://localhost:8080/"
        },
        "id": "UztTtdo0xFtq",
        "outputId": "43ae53d4-561f-41e6-c167-fed9e676d498"
      },
      "outputs": [
        {
          "name": "stdout",
          "output_type": "stream",
          "text": [
            "2\n",
            "77\n"
          ]
        }
      ],
      "source": [
        "print(a[0, 1])\n",
        "b[0, 0] = 77    # b[0, 0] is the same piece of data as a[0, 1]\n",
        "print(a[0, 1]) "
      ]
    },
    {
      "cell_type": "markdown",
      "id": "Y7qTzRPGxFtr",
      "metadata": {
        "id": "Y7qTzRPGxFtr"
      },
      "source": [
        "Two ways of accessing the data in the middle row of the array. Mixing\n",
        "integer indexing with slices yields an array of lower rank, while using\n",
        "only slices yields an array of the same rank as the original array:"
      ]
    },
    {
      "cell_type": "code",
      "execution_count": 17,
      "id": "TJWgH8vK0o5S",
      "metadata": {
        "colab": {
          "base_uri": "https://localhost:8080/"
        },
        "id": "TJWgH8vK0o5S",
        "outputId": "ca5543dc-33ff-4980-fc73-2c74a695cd69"
      },
      "outputs": [
        {
          "data": {
            "text/plain": [
              "array([[ 1, 77,  3,  4],\n",
              "       [ 5,  6,  7,  8],\n",
              "       [ 9, 10, 11, 12]])"
            ]
          },
          "execution_count": 17,
          "metadata": {},
          "output_type": "execute_result"
        }
      ],
      "source": [
        "a"
      ]
    },
    {
      "cell_type": "code",
      "execution_count": 18,
      "id": "D6NKo4-pxFtr",
      "metadata": {
        "colab": {
          "base_uri": "https://localhost:8080/"
        },
        "id": "D6NKo4-pxFtr",
        "outputId": "1af8cf5b-e23e-4120-81e0-ebfbdcf2f196"
      },
      "outputs": [
        {
          "name": "stdout",
          "output_type": "stream",
          "text": [
            "[5 6 7 8] (4,)\n",
            "[[ 5  6  7  8]\n",
            " [ 9 10 11 12]] (2, 4)\n"
          ]
        }
      ],
      "source": [
        "row_r1 = a[1, :]    # Rank 1 view of the second row of a  \n",
        "row_r2 = a[1:3, :]  # Rank 2 view of the second row of a\n",
        "print(row_r1, row_r1.shape)\n",
        "print(row_r2, row_r2.shape)"
      ]
    },
    {
      "cell_type": "code",
      "execution_count": 19,
      "id": "U9enAZD7xFts",
      "metadata": {
        "colab": {
          "base_uri": "https://localhost:8080/"
        },
        "id": "U9enAZD7xFts",
        "outputId": "cb4dc623-2904-4af6-b23a-75ebbc40a3f5"
      },
      "outputs": [
        {
          "name": "stdout",
          "output_type": "stream",
          "text": [
            "[77  6 10] (3,)\n",
            "\n",
            "[[77]\n",
            " [ 6]\n",
            " [10]] (3, 1)\n"
          ]
        }
      ],
      "source": [
        "# We can make the same distinction when accessing columns of an array:\n",
        "col_r1 = a[:, 1]\n",
        "col_r2 = a[:, 1:2]\n",
        "print(col_r1, col_r1.shape)\n",
        "print()\n",
        "print(col_r2, col_r2.shape)"
      ]
    },
    {
      "cell_type": "markdown",
      "id": "0RE88tMdxFuQ",
      "metadata": {
        "id": "0RE88tMdxFuQ"
      },
      "source": [
        "Boolean array indexing: Boolean array indexing lets you pick out\n",
        "arbitrary elements of an array. Frequently this type of indexing is used\n",
        "to select the elements of an array that satisfy some condition. Here is\n",
        "an example:"
      ]
    },
    {
      "cell_type": "code",
      "execution_count": 20,
      "id": "byHaYCXLxFuR",
      "metadata": {
        "colab": {
          "base_uri": "https://localhost:8080/"
        },
        "id": "byHaYCXLxFuR",
        "outputId": "8ca4aa91-c9bb-4b89-abe7-477df9dcd56d"
      },
      "outputs": [
        {
          "name": "stdout",
          "output_type": "stream",
          "text": [
            "[[False False]\n",
            " [ True  True]\n",
            " [ True  True]]\n"
          ]
        }
      ],
      "source": [
        "import numpy as np\n",
        "\n",
        "a = np.array([[1,2], [3, 4], [5, 6]])\n",
        "\n",
        "bool_idx = (a > 2)  # Find the elements of a that are bigger than 2;\n",
        "                    # this returns a numpy array of Booleans of the same\n",
        "                    # shape as a, where each slot of bool_idx tells\n",
        "                    # whether that element of a is > 2.\n",
        "\n",
        "print(bool_idx)"
      ]
    },
    {
      "cell_type": "markdown",
      "id": "RepBiC8HxFuV",
      "metadata": {
        "id": "RepBiC8HxFuV"
      },
      "source": [
        "### Array math"
      ]
    },
    {
      "cell_type": "markdown",
      "id": "uT8ADCi7xFuW",
      "metadata": {
        "id": "uT8ADCi7xFuW"
      },
      "source": [
        "What makes working with `numpy` so powerful and convenient is that it\n",
        "comes with many *vectorized* math functions for computation over\n",
        "elements of an array. These functions are highly optimized and are\n",
        "*very* fast - much, much faster than using an explicit `for` loop.\n",
        "\n",
        "For example, let’s create a large array of random values and then sum it\n",
        "both ways. We’ll use a `%%time` *cell magic* to time them."
      ]
    },
    {
      "cell_type": "code",
      "execution_count": 21,
      "id": "M7kJxr4VxFuW",
      "metadata": {
        "id": "M7kJxr4VxFuW"
      },
      "outputs": [],
      "source": [
        "a = np.random.random(100000000)"
      ]
    },
    {
      "cell_type": "code",
      "execution_count": 22,
      "id": "5WLLqyImxFuX",
      "metadata": {
        "colab": {
          "base_uri": "https://localhost:8080/"
        },
        "id": "5WLLqyImxFuX",
        "outputId": "a836ed21-2055-4dd1-e0e5-dda56233d87d"
      },
      "outputs": [
        {
          "name": "stdout",
          "output_type": "stream",
          "text": [
            "CPU times: user 103 ms, sys: 7 µs, total: 103 ms\n",
            "Wall time: 105 ms\n"
          ]
        }
      ],
      "source": [
        "%%time\n",
        "x = np.sum(a)"
      ]
    },
    {
      "cell_type": "code",
      "execution_count": 23,
      "id": "15tjyfQVxFuX",
      "metadata": {
        "colab": {
          "base_uri": "https://localhost:8080/"
        },
        "id": "15tjyfQVxFuX",
        "outputId": "060457b1-7909-4f1e-8978-38d9d725d2bb"
      },
      "outputs": [
        {
          "name": "stdout",
          "output_type": "stream",
          "text": [
            "CPU times: user 17.1 s, sys: 55.9 ms, total: 17.2 s\n",
            "Wall time: 17.3 s\n"
          ]
        }
      ],
      "source": [
        "%%time\n",
        "x = 0 \n",
        "for element in a:\n",
        "  x = x + element"
      ]
    },
    {
      "cell_type": "markdown",
      "id": "qGSL4ycKxFuY",
      "metadata": {
        "id": "qGSL4ycKxFuY"
      },
      "source": [
        "Look at the “Wall Time” in the output - note how much faster the\n",
        "vectorized version of the operation is! This type of fast computation is\n",
        "a major enabler of machine learning, which requires a *lot* of\n",
        "computation.\n",
        "\n",
        "Whenever possible, we will try to use these vectorized operations."
      ]
    },
    {
      "cell_type": "markdown",
      "id": "PMoUsmeQxFuY",
      "metadata": {
        "id": "PMoUsmeQxFuY"
      },
      "source": [
        "Some mathematic functions are available both as operator overloads and\n",
        "as functions in the numpy module."
      ]
    },
    {
      "cell_type": "markdown",
      "id": "QmWR5trdxFuZ",
      "metadata": {
        "id": "QmWR5trdxFuZ"
      },
      "source": [
        "For example, you can perform an elementwise sum on two arrays using\n",
        "either the + operator or the `add()` function.\n",
        "\n",
        "![](http://jalammar.github.io/images/numpy/numpy-arrays-adding-1.png)\n",
        "\n",
        "![](http://jalammar.github.io/images/numpy/numpy-matrix-arithmetic.png)"
      ]
    },
    {
      "cell_type": "code",
      "execution_count": 24,
      "id": "20L881-fxFuZ",
      "metadata": {
        "colab": {
          "base_uri": "https://localhost:8080/"
        },
        "id": "20L881-fxFuZ",
        "outputId": "f5611c66-291e-4f26-bcf8-d6066c853f06"
      },
      "outputs": [
        {
          "name": "stdout",
          "output_type": "stream",
          "text": [
            "[[ 6.  8.]\n",
            " [10. 12.]]\n",
            "[[ 6.  8.]\n",
            " [10. 12.]]\n"
          ]
        }
      ],
      "source": [
        "x = np.array([[1,2],[3,4]], dtype=np.float64)\n",
        "y = np.array([[5,6],[7,8]], dtype=np.float64)\n",
        "\n",
        "# Elementwise sum; both produce the array\n",
        "print(x + y)\n",
        "print(np.add(x, y))"
      ]
    },
    {
      "cell_type": "markdown",
      "id": "FtRM-VGRxFuZ",
      "metadata": {
        "id": "FtRM-VGRxFuZ"
      },
      "source": [
        "And this works for other operations as well, not only addition:\n",
        "\n",
        "![](http://jalammar.github.io/images/numpy/numpy-array-subtract-multiply-divide.png)"
      ]
    },
    {
      "cell_type": "code",
      "execution_count": 25,
      "id": "K7wb-t0JxFua",
      "metadata": {
        "colab": {
          "base_uri": "https://localhost:8080/"
        },
        "id": "K7wb-t0JxFua",
        "outputId": "6dfdfea3-de2e-4dee-d0b6-78b34691fed6"
      },
      "outputs": [
        {
          "name": "stdout",
          "output_type": "stream",
          "text": [
            "[[-4. -4.]\n",
            " [-4. -4.]]\n",
            "[[-4. -4.]\n",
            " [-4. -4.]]\n"
          ]
        }
      ],
      "source": [
        "# Elementwise difference; both produce the array\n",
        "print(x - y)\n",
        "print(np.subtract(x, y))"
      ]
    },
    {
      "cell_type": "code",
      "execution_count": 26,
      "id": "pTiZF7MbxFua",
      "metadata": {
        "colab": {
          "base_uri": "https://localhost:8080/"
        },
        "id": "pTiZF7MbxFua",
        "outputId": "dd119e6f-f765-453c-ccc7-2c108d60eb87"
      },
      "outputs": [
        {
          "name": "stdout",
          "output_type": "stream",
          "text": [
            "[[ 5. 12.]\n",
            " [21. 32.]]\n",
            "[[ 5. 12.]\n",
            " [21. 32.]]\n"
          ]
        }
      ],
      "source": [
        "# Elementwise product; both produce the array\n",
        "print(x * y)\n",
        "print(np.multiply(x, y))"
      ]
    },
    {
      "cell_type": "code",
      "execution_count": 27,
      "id": "Nl3DyUsMxFub",
      "metadata": {
        "colab": {
          "base_uri": "https://localhost:8080/"
        },
        "id": "Nl3DyUsMxFub",
        "outputId": "6f5c529a-bc38-49b0-b8fb-bf64d27d8fe2"
      },
      "outputs": [
        {
          "name": "stdout",
          "output_type": "stream",
          "text": [
            "[[0.2        0.33333333]\n",
            " [0.42857143 0.5       ]]\n",
            "[[0.2        0.33333333]\n",
            " [0.42857143 0.5       ]]\n"
          ]
        }
      ],
      "source": [
        "# Elementwise division; both produce the array\n",
        "# [[ 0.2         0.33333333]\n",
        "#  [ 0.42857143  0.5       ]]\n",
        "print(x / y)\n",
        "print(np.divide(x, y))"
      ]
    },
    {
      "cell_type": "code",
      "execution_count": 28,
      "id": "06XWra0qxFub",
      "metadata": {
        "colab": {
          "base_uri": "https://localhost:8080/"
        },
        "id": "06XWra0qxFub",
        "outputId": "ffcbfa16-4173-4875-935c-3a2f825c6e2a"
      },
      "outputs": [
        {
          "name": "stdout",
          "output_type": "stream",
          "text": [
            "[[1.         1.41421356]\n",
            " [1.73205081 2.        ]]\n"
          ]
        }
      ],
      "source": [
        "# Elementwise square root; produces the array\n",
        "# [[ 1.          1.41421356]\n",
        "#  [ 1.73205081  2.        ]]\n",
        "print(np.sqrt(x))"
      ]
    },
    {
      "cell_type": "markdown",
      "id": "sGNrpNDdxFuc",
      "metadata": {
        "id": "sGNrpNDdxFuc"
      },
      "source": [
        "We use the `dot()` function to compute inner\n",
        "products of vectors, to multiply a vector by a matrix, and to multiply\n",
        "matrices. `dot()` is available both as a function in the numpy module\n",
        "and as an instance method of array objects:\n",
        "\n",
        "![](http://jalammar.github.io/images/numpy/numpy-matrix-dot-product-1.png)"
      ]
    },
    {
      "cell_type": "code",
      "execution_count": 29,
      "id": "BUdVL_4pxFuc",
      "metadata": {
        "colab": {
          "base_uri": "https://localhost:8080/"
        },
        "id": "BUdVL_4pxFuc",
        "outputId": "800b4705-eb0d-42a5-ea1a-7f02337bec97"
      },
      "outputs": [
        {
          "name": "stdout",
          "output_type": "stream",
          "text": [
            "219\n",
            "219\n"
          ]
        }
      ],
      "source": [
        "x = np.array([[1,2],[3,4]])\n",
        "y = np.array([[5,6],[7,8]])\n",
        "\n",
        "v = np.array([9,10])\n",
        "w = np.array([11, 12])\n",
        "\n",
        "# Inner product of vectors; both produce 219\n",
        "print(v.dot(w))\n",
        "print(np.dot(v, w))"
      ]
    },
    {
      "cell_type": "markdown",
      "id": "DbNYk9dxxFuf",
      "metadata": {
        "id": "DbNYk9dxxFuf"
      },
      "source": [
        "You can also use the `@` operator which is equivalent to numpy's `dot`\n",
        "operator."
      ]
    },
    {
      "cell_type": "code",
      "execution_count": 30,
      "id": "OCMgtx4exFuh",
      "metadata": {
        "colab": {
          "base_uri": "https://localhost:8080/"
        },
        "id": "OCMgtx4exFuh",
        "outputId": "d35a35f9-a02b-4203-e128-87b700dd3f07"
      },
      "outputs": [
        {
          "name": "stdout",
          "output_type": "stream",
          "text": [
            "219\n"
          ]
        }
      ],
      "source": [
        "print(v @ w)"
      ]
    },
    {
      "cell_type": "code",
      "execution_count": 31,
      "id": "Da_uJOoExFui",
      "metadata": {
        "colab": {
          "base_uri": "https://localhost:8080/"
        },
        "id": "Da_uJOoExFui",
        "outputId": "f749dc3a-bf2c-4186-8f9f-2c1cc5410fc8"
      },
      "outputs": [
        {
          "name": "stdout",
          "output_type": "stream",
          "text": [
            "[29 67]\n",
            "[29 67]\n",
            "[29 67]\n"
          ]
        }
      ],
      "source": [
        "# Matrix / vector product; both produce the rank 1 array [29 67]\n",
        "print(x.dot(v))\n",
        "print(np.dot(x, v))\n",
        "print(x @ v)"
      ]
    },
    {
      "cell_type": "code",
      "execution_count": 32,
      "id": "1Rk6a2xbxFuj",
      "metadata": {
        "colab": {
          "base_uri": "https://localhost:8080/"
        },
        "id": "1Rk6a2xbxFuj",
        "outputId": "9570f73a-6904-4bfa-e940-d05afc8810d4"
      },
      "outputs": [
        {
          "name": "stdout",
          "output_type": "stream",
          "text": [
            "[[19 22]\n",
            " [43 50]]\n",
            "[[19 22]\n",
            " [43 50]]\n",
            "[[19 22]\n",
            " [43 50]]\n"
          ]
        }
      ],
      "source": [
        "# Matrix / matrix product; both produce the rank 2 array\n",
        "# [[19 22]\n",
        "#  [43 50]]\n",
        "print(x.dot(y))\n",
        "print(np.dot(x, y))\n",
        "print(x @ y)"
      ]
    },
    {
      "cell_type": "markdown",
      "id": "E0qB6tQTxFuj",
      "metadata": {
        "id": "E0qB6tQTxFuj"
      },
      "source": [
        "Besides for the functions that overload operators, Numpy also provides\n",
        "many useful functions for performing computations on arrays, such as\n",
        "`min()`, `max()`, `sum()`, and others:\n",
        "\n",
        "![](http://jalammar.github.io/images/numpy/numpy-matrix-aggregation-1.png)"
      ]
    },
    {
      "cell_type": "code",
      "execution_count": 33,
      "id": "uElT-70BxFuk",
      "metadata": {
        "colab": {
          "base_uri": "https://localhost:8080/"
        },
        "id": "uElT-70BxFuk",
        "outputId": "44818807-e33b-4e34-ae29-45e708765450"
      },
      "outputs": [
        {
          "name": "stdout",
          "output_type": "stream",
          "text": [
            "6\n",
            "1\n",
            "21\n"
          ]
        }
      ],
      "source": [
        "x = np.array([[1, 2], [3, 4], [5, 6]])\n",
        "\n",
        "print(np.max(x)) \n",
        "print(np.min(x))  \n",
        "print(np.sum(x)) "
      ]
    },
    {
      "cell_type": "markdown",
      "id": "As7pS197xFuk",
      "metadata": {
        "id": "As7pS197xFuk"
      },
      "source": [
        "Not only can we aggregate all the values in a matrix using these\n",
        "functions, but we can also aggregate across the rows or columns by using\n",
        "the `axis` parameter:\n",
        "\n",
        "![](http://jalammar.github.io/images/numpy/numpy-matrix-aggregation-4.png)"
      ]
    },
    {
      "cell_type": "code",
      "execution_count": 34,
      "id": "Yro977YvxFul",
      "metadata": {
        "colab": {
          "base_uri": "https://localhost:8080/"
        },
        "id": "Yro977YvxFul",
        "outputId": "a21bbd0d-39ca-4eb5-cfc3-025605cac823"
      },
      "outputs": [
        {
          "name": "stdout",
          "output_type": "stream",
          "text": [
            "[5 6]\n",
            "[2 5 6]\n"
          ]
        }
      ],
      "source": [
        "x = np.array([[1, 2], [5, 3], [4, 6]])\n",
        "\n",
        "print(np.max(x, axis=0))  # Compute max of each column; prints \"[5 6]\"\n",
        "print(np.max(x, axis=1))  # Compute max of each row; prints \"[2 5 6]\""
      ]
    },
    {
      "cell_type": "markdown",
      "id": "qKXzCHoYxFum",
      "metadata": {
        "id": "qKXzCHoYxFum"
      },
      "source": [
        "You can find the full list of mathematical functions provided by numpy\n",
        "in the\n",
        "[documentation](http://docs.scipy.org/doc/numpy/reference/routines.math.html)."
      ]
    },
    {
      "cell_type": "markdown",
      "id": "Of1xC-cjxFun",
      "metadata": {
        "id": "Of1xC-cjxFun"
      },
      "source": [
        "Apart from computing mathematical functions using arrays, we frequently\n",
        "need to reshape or otherwise manipulate data in arrays. The simplest\n",
        "example of this type of operation is transposing a matrix; to transpose\n",
        "a matrix, simply use the T attribute of an array object.\n",
        "\n",
        "![](http://jalammar.github.io/images/numpy/numpy-transpose.png)"
      ]
    },
    {
      "cell_type": "code",
      "execution_count": 35,
      "id": "q9iSqbeUxFuo",
      "metadata": {
        "colab": {
          "base_uri": "https://localhost:8080/"
        },
        "id": "q9iSqbeUxFuo",
        "outputId": "24721622-eabb-433d-82e2-dc8523e9ecbf"
      },
      "outputs": [
        {
          "name": "stdout",
          "output_type": "stream",
          "text": [
            "[[1 2]\n",
            " [3 4]\n",
            " [5 6]]\n",
            "transpose\n",
            " [[1 3 5]\n",
            " [2 4 6]]\n"
          ]
        }
      ],
      "source": [
        "x = np.array([[1, 2], [3, 4], [5, 6]])\n",
        "\n",
        "print(x)\n",
        "print(\"transpose\\n\", x.T)"
      ]
    },
    {
      "cell_type": "code",
      "execution_count": null,
      "id": "_gksY7GL4Hl0",
      "metadata": {
        "id": "_gksY7GL4Hl0"
      },
      "outputs": [],
      "source": []
    },
    {
      "cell_type": "markdown",
      "id": "XovFDE7w56hn",
      "metadata": {
        "id": "XovFDE7w56hn"
      },
      "source": [
        "# Lab Task"
      ]
    },
    {
      "cell_type": "code",
      "execution_count": 37,
      "id": "RTpOZHif57fP",
      "metadata": {
        "id": "RTpOZHif57fP"
      },
      "outputs": [],
      "source": [
        "# 1. Import the numpy package under the name np\n"
      ]
    },
    {
      "cell_type": "code",
      "execution_count": 20,
      "id": "58q15fc35-x5",
      "metadata": {
        "id": "58q15fc35-x5"
      },
      "outputs": [],
      "source": [
        "# 2. Create a null vector of size 10\n"
      ]
    },
    {
      "cell_type": "code",
      "execution_count": 21,
      "id": "tQ8JuZNp6GAf",
      "metadata": {
        "id": "tQ8JuZNp6GAf"
      },
      "outputs": [],
      "source": [
        "# 3. Create a null vector of size 10 but the fifth value which is 1\n"
      ]
    },
    {
      "cell_type": "code",
      "execution_count": 22,
      "id": "M7VUqe2y6SAL",
      "metadata": {
        "id": "M7VUqe2y6SAL"
      },
      "outputs": [],
      "source": [
        "# 4. Create a vector with values ranging from 10 to 49\n"
      ]
    },
    {
      "cell_type": "code",
      "execution_count": 23,
      "id": "ueGhbsPN6caG",
      "metadata": {
        "id": "ueGhbsPN6caG"
      },
      "outputs": [],
      "source": [
        "# 5. Create a 3x3 matrix with values ranging from 0 to 8\n"
      ]
    },
    {
      "cell_type": "code",
      "execution_count": 24,
      "id": "WkWlD22L6pAd",
      "metadata": {
        "id": "WkWlD22L6pAd"
      },
      "outputs": [],
      "source": [
        "# 6. Create a 10x10 array with random values and find the minimum and maximum values \n"
      ]
    },
    {
      "cell_type": "code",
      "execution_count": 25,
      "id": "cq1LbRLwzHZ3",
      "metadata": {
        "id": "cq1LbRLwzHZ3"
      },
      "outputs": [],
      "source": [
        "# 7. Create a 5x5 matrix with row values ranging from 0 to 4\n"
      ]
    },
    {
      "cell_type": "code",
      "execution_count": 26,
      "id": "4GWZBkqCzTe_",
      "metadata": {
        "id": "4GWZBkqCzTe_"
      },
      "outputs": [],
      "source": [
        "# 8. Create a vector of size 10 with values ranging from 0 to 1, both excluded \n"
      ]
    },
    {
      "cell_type": "code",
      "execution_count": 27,
      "id": "S5G_33el6zqP",
      "metadata": {
        "id": "S5G_33el6zqP"
      },
      "outputs": [],
      "source": [
        "# 9. Create a 2d array with 1 on the border and 0 inside\n"
      ]
    },
    {
      "cell_type": "code",
      "execution_count": 28,
      "id": "HsIryIzq65yh",
      "metadata": {
        "id": "HsIryIzq65yh"
      },
      "outputs": [],
      "source": [
        "# 10. Create a random vector of size 10 and sort it \n"
      ]
    },
    {
      "cell_type": "code",
      "execution_count": 29,
      "id": "fRCFuNIVztLC",
      "metadata": {
        "id": "fRCFuNIVztLC"
      },
      "outputs": [],
      "source": [
        "# 11. Subtract the mean of each row of an array\n"
      ]
    },
    {
      "cell_type": "code",
      "execution_count": 30,
      "id": "2TYQ7ERp7VNw",
      "metadata": {
        "id": "2TYQ7ERp7VNw"
      },
      "outputs": [],
      "source": [
        "# 12. create a 2darray\n",
        "# swap two rows of an array\n"
      ]
    },
    {
      "cell_type": "code",
      "execution_count": null,
      "id": "0e82abcd",
      "metadata": {},
      "outputs": [],
      "source": [
        "# 13. Find the number of occurrences of a sequence in an array\n"
      ]
    },
    {
      "cell_type": "code",
      "execution_count": null,
      "id": "36b0e0e8",
      "metadata": {},
      "outputs": [],
      "source": [
        "# 14. Combining a one and a two-dimensional Array"
      ]
    },
    {
      "cell_type": "code",
      "execution_count": null,
      "id": "d760d146",
      "metadata": {},
      "outputs": [],
      "source": [
        "# 15. Flatten a 2d array into 1d array"
      ]
    },
    {
      "cell_type": "code",
      "execution_count": null,
      "id": "18341f09",
      "metadata": {},
      "outputs": [],
      "source": [
        "# 16. How can one determine the occurrence frequency of distinct values within an array"
      ]
    },
    {
      "cell_type": "code",
      "execution_count": null,
      "id": "3419b463",
      "metadata": {},
      "outputs": [],
      "source": [
        "# 17. Compute the determinant of a matrix"
      ]
    },
    {
      "cell_type": "code",
      "execution_count": null,
      "id": "4000bdee",
      "metadata": {},
      "outputs": [],
      "source": [
        "# 18. Ways to add row/columns in an array"
      ]
    },
    {
      "cell_type": "code",
      "execution_count": null,
      "id": "8604551c",
      "metadata": {},
      "outputs": [],
      "source": [
        "# 19. Convert a matrix into a list"
      ]
    },
    {
      "cell_type": "code",
      "execution_count": null,
      "id": "FP2mWQUnxOkx",
      "metadata": {
        "id": "FP2mWQUnxOkx"
      },
      "outputs": [],
      "source": [
        "# 20. Calculate inner, outer, and cross products of matrices and vectors"
      ]
    }
  ],
  "metadata": {
    "colab": {
      "collapsed_sections": [],
      "provenance": []
    },
    "gpuClass": "standard",
    "kernelspec": {
      "display_name": "Python 3",
      "name": "python3"
    },
    "language_info": {
      "name": "python",
      "version": "3.12.3"
    }
  },
  "nbformat": 4,
  "nbformat_minor": 5
}
